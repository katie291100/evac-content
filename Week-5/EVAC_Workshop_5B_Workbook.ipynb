{
  "cells": [
    {
      "cell_type": "markdown",
      "metadata": {
        "id": "q7jTURszSJhA"
      },
      "source": [
        "# <span style=\"color:blue\">EVAC Workshop 5B: Evolving an AI to play Pong</span>"
      ]
    },
    {
      "cell_type": "markdown",
      "metadata": {
        "id": "3796ArhVSJhC"
      },
      "source": [
        "**Module leader**\n",
        "\n",
        "Simon O'Keefe: simon.okeefe@york.ac.uk\n",
        "\n",
        "**Graduate Teaching Assistants**\n",
        "\n",
        "Danny Roberts: danny.roberts@york.ac.uk\n",
        "\n",
        "Tianda Sun: tianda.sun@york.ac.uk"
      ]
    },
    {
      "cell_type": "markdown",
      "metadata": {
        "id": "EcUfoYjDSJhD"
      },
      "source": [
        "## <span style=\"color:#0073e6\">Learning objectives</span>"
      ]
    },
    {
      "cell_type": "markdown",
      "metadata": {
        "id": "PIVTRyXISJhD"
      },
      "source": [
        "- To understand how to apply evolutionary algorithms to traditionally reinforcement learning scenarios\n",
        "- Understand how to evolve a simple game AI by evolving neural networks"
      ]
    },
    {
      "cell_type": "markdown",
      "metadata": {
        "id": "6C7BckY0SJhE"
      },
      "source": [
        "# <span style=\"color:blue\">Practical Instructions</span>"
      ]
    },
    {
      "cell_type": "markdown",
      "metadata": {
        "id": "SsUuxMArSJhE"
      },
      "source": [
        "Below is a Pong game implementation. If you want to have a quick play of Pong online, you can do so at pong-2.com. The version of the game implemented here is slightly different in that the angle that the ball comes off the bat depends on where it hits the bat.\n",
        "\n",
        "A simple AI has been included in the code, and will control the hard-coded AI of the left bat (the left bat AI simply moves towards the vertical position of the ball).\n",
        "\n",
        "\n",
        "Your task is to evolve a neural network AI for the right bat, which can outperform the left bat."
      ]
    },
    {
      "cell_type": "markdown",
      "metadata": {
        "id": "igZacNRHSJhF"
      },
      "source": [
        "The code to execute your neural network AI can be placed in the 'R_move_AI(self, AIbrain):' function of the Pong game. All you need to do here is let your neural network decide, in each timestep, whether to move the bat up or down (or do nothing)."
      ]
    },
    {
      "cell_type": "markdown",
      "metadata": {
        "id": "aeaZN3hnSJhF"
      },
      "source": [
        "The game uses the Turtle library for displaying the simple graphics on screen. Turtle is a native Python package (so you don't need to install it). You do not need to understand that in detail, but you can find out more here: https://realpython.com/beginners-guide-python-turtle/\n",
        "\n",
        "The 'undrawn turtle' class, that is defined below, has many of the same functions as the Turtle class. But we have included it here because it allows us to run the game 'headless' -- without drawing anything to screen -- to speed up evolution."
      ]
    },
    {
      "cell_type": "markdown",
      "metadata": {
        "id": "gjq5yuWUSJhF"
      },
      "source": [
        "# <span style=\"color:blue\">Pong implementation</span>"
      ]
    },
    {
      "cell_type": "code",
      "execution_count": 153,
      "metadata": {},
      "outputs": [
        {
          "name": "stdout",
          "output_type": "stream",
          "text": [
            "Requirement already satisfied: numpy in /Library/Frameworks/Python.framework/Versions/3.10/lib/python3.10/site-packages (1.26.4)\n"
          ]
        }
      ],
      "source": [
        "!pip3 install numpy"
      ]
    },
    {
      "cell_type": "code",
      "execution_count": 154,
      "metadata": {
        "id": "I6qvx5VTSJhF"
      },
      "outputs": [],
      "source": [
        "from turtle import Turtle, Screen, Shape\n",
        "import random\n",
        "import math\n",
        "from datetime import datetime\n",
        "import numpy as np"
      ]
    },
    {
      "cell_type": "markdown",
      "metadata": {
        "id": "8Jw0R5LBSJhG"
      },
      "source": [
        "Custom class that we use for creating game agents ('turtles') without having to draw them to the screen, as we would if we used the Turtle class. It simply stores the x and y position of the agent/turtle, along with it's current angle (not used here) and x and y position in the previous timestep. It also has functions to move the agent."
      ]
    },
    {
      "cell_type": "code",
      "execution_count": 155,
      "metadata": {
        "id": "-3GA6d4RSJhG"
      },
      "outputs": [],
      "source": [
        "class UndrawnTurtle(): # We use this to keep track of the turtles/agents without having to draw them\n",
        "    def __init__(self):\n",
        "        self.x, self.y, self.x_prev, self.y_prev, self.angle = 0.0, 0.0, 0.0, 0.0, 0.0\n",
        "\n",
        "    def position(self):\n",
        "        return self.x, self.y\n",
        "\n",
        "    def xcor(self):\n",
        "        return self.x\n",
        "\n",
        "    def ycor(self):\n",
        "        return self.y\n",
        "\n",
        "    def xcor_prev(self):\n",
        "        return self.x_prev\n",
        "\n",
        "    def ycor_prev(self):\n",
        "        self.y_prev = self.y\n",
        "        return self.y_prev\n",
        "\n",
        "    def setx(self, xcor):\n",
        "        self.x_prev = self.x\n",
        "        self.x = xcor\n",
        "\n",
        "    def sety(self, ycor):\n",
        "        self.y = ycor\n",
        "\n",
        "    def forward(self, distance):\n",
        "        angle_radians = math.radians(self.angle)\n",
        "        self.x_prev = self.x\n",
        "        self.y_prev = self.y\n",
        "        self.x += math.cos(angle_radians) * distance\n",
        "        self.y += math.sin(angle_radians) * distance\n",
        "\n",
        "    def backward(self, distance):\n",
        "        self.forward(-distance)\n",
        "\n",
        "    def right(self, angle):\n",
        "        self.angle -= angle\n",
        "\n",
        "    def left(self, angle):\n",
        "        self.angle += angle\n",
        "\n",
        "    def setpos(self, x, y = None):\n",
        "        # Can be passed either a tuple or two numbers\n",
        "        self.x_prev = self.x\n",
        "        self.y_prev = self.y\n",
        "        if y == None:\n",
        "            self.x = x[0]\n",
        "            self.y = y[1]\n",
        "        else:\n",
        "            self.x = x\n",
        "            self.y = y"
      ]
    },
    {
      "cell_type": "markdown",
      "metadata": {
        "id": "3ymc8t2lSJhG"
      },
      "source": [
        "# <span style=\"color:blue\">Class for drawing the game to the screen</span>"
      ]
    },
    {
      "cell_type": "markdown",
      "metadata": {
        "id": "Ad05isDuSJhH"
      },
      "source": [
        "This class uses the Turtle library to draw individuals to screen. This is used if we do not use the headless mode, and want to watch the game being played by our AI. **You do not need to understand this code block and can skip it for the purpose of the workshop.**"
      ]
    },
    {
      "cell_type": "code",
      "execution_count": 156,
      "metadata": {
        "id": "ckflw2t4SJhH"
      },
      "outputs": [],
      "source": [
        "class DisplayGame:\n",
        "\n",
        "    def __init__(self, window_height, window_width, bat_w_half, bat_h_half):\n",
        "        # SCREEN\n",
        "        self.screen = Screen()\n",
        "        self.screen.setup(window_height, window_width)   # width, height\n",
        "        self.screen.tracer(0)         # We will handle displaying of frames ourselves\n",
        "\n",
        "        # PLAY ARENA\n",
        "        self.play_top    = window_height / 2 - 80    # top of screen minus 100 units\n",
        "        self.play_bottom = -window_height / 2 + 80   # 100 from bottom\n",
        "        self.play_left   = -window_width / 2 + 50    # 50 from left\n",
        "        self.play_right  = window_width / 2 - 50     # 50 from right\n",
        "\n",
        "        self.area = Turtle()\n",
        "        self.area.hideturtle()\n",
        "\n",
        "        # batS\n",
        "        self.L = Turtle()\n",
        "        self.R = Turtle()\n",
        "        self.L.penup()\n",
        "        self.R.penup()\n",
        "\n",
        "        # bats shape\n",
        "        self.bat_shape = Shape(\"compound\")\n",
        "        self.bat_points = ((-bat_h_half, -bat_w_half),\n",
        "                         (-bat_h_half, bat_w_half),\n",
        "                         (bat_h_half, bat_w_half),\n",
        "                         (bat_h_half, -bat_w_half))\n",
        "        self.bat_shape.addcomponent(self.bat_points, \"blue\")\n",
        "        self.screen.register_shape(\"bat\", self.bat_shape)\n",
        "        self.L.shape(\"bat\")\n",
        "        self.R.shape(\"bat\")\n",
        "\n",
        "        # SCORE\n",
        "        self.score_turtle = Turtle()\n",
        "        self.score_turtle.penup()\n",
        "        self.score_turtle.hideturtle()\n",
        "\n",
        "        # BALL\n",
        "        self.ball = Turtle()\n",
        "        self.ball.penup()\n",
        "        self.ball.shape(\"circle\")        # Use the built-in shape \"circle\"\n",
        "        self.ball.color(\"blue\")\n",
        "        self.ball.shapesize( 0.5, 0.5)   # Stretch it to half default size\n",
        "\n",
        "        self.reset()\n",
        "\n",
        "    def reset(self):\n",
        "\n",
        "        self.area.penup()\n",
        "        self.area.goto(self.play_right, self.play_top)\n",
        "        self.area.pendown()\n",
        "        self.area.goto(self.play_left, self.play_top)\n",
        "        self.area.goto(self.play_left, self.play_bottom)\n",
        "        self.area.goto(self.play_right, self.play_bottom)\n",
        "        self.area.goto(self.play_right, self.play_top)\n",
        "\n",
        "         # Move bats into position\n",
        "        self.L.setx(self.play_left + 10)\n",
        "        self.R.setx(self.play_right - 10)\n",
        "\n",
        "        self.update_score(0,0)\n",
        "        self.screen.update()\n",
        "\n",
        "    def update_ball_position(self, ball_x_pos, ball_y_pos):\n",
        "        self.ball.setpos(ball_x_pos, ball_y_pos)\n",
        "\n",
        "    def update_L_bat_position(self, L_x_pos, L_y_pos):\n",
        "        self.L.setpos(L_x_pos, L_y_pos)\n",
        "\n",
        "    def update_R_bat_position(self, R_x_pos, R_y_pos):\n",
        "        self.R.setpos(R_x_pos, R_y_pos)\n",
        "\n",
        "    def update_score(self, L_score, R_score):\n",
        "        self.score_turtle.clear()\n",
        "        self.score_turtle.goto(-self.screen.window_width()/4, self.screen.window_height()/2 - 40)\n",
        "        self.score_turtle.write(L_score, align=\"center\", font=(\"Arial\", 32, \"bold\"))\n",
        "        self.score_turtle.goto(self.screen.window_width()/4, self.screen.window_height()/2 - 40)\n",
        "        self.score_turtle.write(R_score, align=\"center\", font=(\"Arial\", 32, \"bold\"))"
      ]
    },
    {
      "cell_type": "markdown",
      "metadata": {
        "id": "S56pvBCPSJhH"
      },
      "source": [
        "# <span style=\"color:blue\">This is the class containing all the game code</span>"
      ]
    },
    {
      "cell_type": "markdown",
      "metadata": {
        "id": "6xbmV1IoSJhI"
      },
      "source": [
        "This is the code for how the basic Pong game works. Have a quick look over it so that you understand the general process. The very last function (**R_move_AI**) is where you pass and run your neural network for controlling the bat on the right. The left bat already has hard-coded AI."
      ]
    },
    {
      "cell_type": "code",
      "execution_count": 157,
      "metadata": {
        "id": "vLhiMRj_SJhI",
        "outputId": "54a72cca-89c3-446d-ac69-417300944b1c"
      },
      "outputs": [],
      "source": [
        "class Pong:\n",
        "\n",
        "    def __init__(self):\n",
        "\n",
        "        self.window_height = 600\n",
        "        self.window_width = 550\n",
        "\n",
        "        # PLAY ARENA\n",
        "        self.play_top    = self.window_height / 2 - 80    # top of screen minus 100 units\n",
        "        self.play_bottom = -self.window_height / 2 + 80   # 100 from bottom\n",
        "        self.play_left   = -self.window_width / 2 + 50    # 50 from left\n",
        "        self.play_right  = self.window_width / 2 - 50     # 50 from right\n",
        "\n",
        "        self.area = UndrawnTurtle()\n",
        "\n",
        "        # batS\n",
        "        self.L = UndrawnTurtle()\n",
        "        self.R = UndrawnTurtle()\n",
        "\n",
        "        # bat size\n",
        "        self.bat_w_half = 5\n",
        "        self.bat_h_half = 35\n",
        "\n",
        "        # BALL\n",
        "        self.ball = UndrawnTurtle()\n",
        "        self.ball_radius = 10 * 0.5\n",
        "\n",
        "        self.ball_move_horiz = 0          # current x speed\n",
        "        self.ball_move_vert  = 0          # current y speed\n",
        "        self.slow_ball_speed = 3\n",
        "        self.fast_ball_speed = self.slow_ball_speed * 2\n",
        "\n",
        "        self.ball_speed = self.slow_ball_speed\n",
        "        self.maxBounceAngleRadians = 1.04 # ~60 degrees\n",
        "\n",
        "        self.reset()\n",
        "\n",
        "    def reset(self):\n",
        "\n",
        "         # Move bats into position\n",
        "        self.L.setx(self.play_left + 10)\n",
        "        self.R.setx(self.play_right - 10)\n",
        "\n",
        "        self.bat_L_move_direction = 0   # L bat movement direction in next frame\n",
        "        self.bat_R_move_direction = 0   # R bat movement direction in next frame\n",
        "\n",
        "        self.bat_move_vert = 5\n",
        "\n",
        "        self.score_L = 0\n",
        "        self.score_R = 0\n",
        "\n",
        "        if random.random() > 0.5:\n",
        "            self.direction_horiz = 1\n",
        "        else:\n",
        "            self.direction_horiz = -1\n",
        "\n",
        "        self.start_ball_direction = self.direction_horiz\n",
        "\n",
        "        self.reset_ball()\n",
        "\n",
        "    def bat_is_allowed_to_move_here(self, new_y_pos):\n",
        "        if (self.play_bottom > new_y_pos - self.bat_h_half) :\n",
        "            return False\n",
        "        if (new_y_pos + self.bat_h_half > self.play_top) :\n",
        "            return False\n",
        "        return True\n",
        "\n",
        "    def update_bat_positions(self):\n",
        "        L_new_y_pos = self.L.ycor() + (self.bat_L_move_direction * self.bat_move_vert)\n",
        "        R_new_y_pos = self.R.ycor() + (self.bat_R_move_direction * self.bat_move_vert)\n",
        "        if self.bat_is_allowed_to_move_here(L_new_y_pos):\n",
        "            self.L.sety( L_new_y_pos )\n",
        "        if self.bat_is_allowed_to_move_here(R_new_y_pos):\n",
        "            self.R.sety( R_new_y_pos )\n",
        "\n",
        "    def L_up(self):\n",
        "        self.bat_L_move_direction = 1\n",
        "\n",
        "    def L_down(self):\n",
        "        self.bat_L_move_direction = -1\n",
        "\n",
        "    def L_off(self):\n",
        "        self.bat_L_move_direction = 0\n",
        "\n",
        "    def R_up(self):\n",
        "        self.bat_R_move_direction = 1\n",
        "\n",
        "    def R_down(self):\n",
        "        self.bat_R_move_direction = -1\n",
        "\n",
        "    def R_off(self):\n",
        "        self.bat_R_move_direction = 0\n",
        "\n",
        "    def check_if_someone_scores(self):\n",
        "        if (self.ball.xcor() + self.ball_radius) >= self.play_right:\n",
        "            self.score_L += 1\n",
        "            self.reset_ball()\n",
        "            return True\n",
        "        elif self.play_left >= (self.ball.xcor() - self.ball_radius):\n",
        "            self.score_R += 1\n",
        "            self.reset_ball()\n",
        "            return True\n",
        "        else:\n",
        "            return False\n",
        "\n",
        "    def ball_collides_with_bat(self, bat):\n",
        "        self.ball_speed = self.fast_ball_speed              # Set it to full speed after the first hit\n",
        "        x_distance = abs(bat.xcor() - self.ball.xcor())\n",
        "        y_distance = abs(bat.ycor() - self.ball.ycor())\n",
        "        overlap_horizontally = (self.ball_radius + self.bat_w_half >= x_distance)\n",
        "        overlap_vertically   = (self.ball_radius + self.bat_h_half >= y_distance)\n",
        "        return overlap_horizontally and overlap_vertically\n",
        "\n",
        "    def update_ball_position(self):\n",
        "        if (self.ball.ycor() + self.ball_radius > self.play_top) and (self.ball_move_vert > 0):\n",
        "            self.ball_move_vert *= -1\n",
        "        elif (self.play_bottom > self.ball.ycor() - self.ball_radius) and (self.ball_move_vert < 0):\n",
        "            self.ball_move_vert *= -1\n",
        "\n",
        "        if self.ball_collides_with_bat(self.L) and self.ball_move_horiz < 0:\n",
        "            relativeIntersectY = self.ball.ycor() - self.L.ycor()\n",
        "            normalizedRelativeIntersectionY = (relativeIntersectY / self.bat_h_half)\n",
        "            bounceAngle = normalizedRelativeIntersectionY * self.maxBounceAngleRadians\n",
        "            self.ball_move_vert = self.ball_speed * math.sin(bounceAngle)\n",
        "            self.ball_move_horiz = self.ball_speed * math.cos(bounceAngle)\n",
        "        elif self.ball_collides_with_bat(self.R) and self.ball_move_horiz > 0:\n",
        "            relativeIntersectY = self.ball.ycor() - self.R.ycor()\n",
        "            normalizedRelativeIntersectionY = (relativeIntersectY / self.bat_h_half)\n",
        "            bounceAngle = normalizedRelativeIntersectionY * self.maxBounceAngleRadians\n",
        "            self.ball_move_vert = self.ball_speed * math.sin(bounceAngle)\n",
        "            self.ball_move_horiz = self.ball_speed * -math.cos(bounceAngle)\n",
        "\n",
        "        self.ball.setx(self.ball.xcor() + self.ball_move_horiz)\n",
        "        self.ball.sety(self.ball.ycor() + self.ball_move_vert)\n",
        "\n",
        "    def reset_ball(self):\n",
        "        self.ball_speed = self.slow_ball_speed\n",
        "\n",
        "        if self.start_ball_direction == 1:\n",
        "            self.direction_horiz = -1\n",
        "            self.start_ball_direction = -1\n",
        "            self.ball.setpos((self.window_width / 2) - 100, (self.window_height / 2) - 50)\n",
        "        else:\n",
        "            self.direction_horiz = 1\n",
        "            self.start_ball_direction = 1\n",
        "            self.ball.setpos((-self.window_width / 2) + 100, (self.window_height / 2) - 50)\n",
        "\n",
        "        bounceAngle = random.uniform(0.2, self.maxBounceAngleRadians)\n",
        "\n",
        "        self.ball_move_vert = self.ball_speed * math.sin(bounceAngle)\n",
        "        self.ball_move_horiz = self.ball_speed * (self.direction_horiz*math.cos(bounceAngle))\n",
        "\n",
        "    def L_move_AI(self): # Simple AI for moving the left bat\n",
        "        if self.ball.xcor() < 60:\n",
        "            if self.L.ycor() < (self.ball.ycor() -40 ):\n",
        "                self.bat_L_move_direction = 1\n",
        "            elif self.L.ycor() > (self.ball.ycor() + 40 ):\n",
        "                self.bat_L_move_direction = -1\n",
        "            else:\n",
        "                self.bat_L_move_direction = 0\n",
        "\n",
        "#    def R_move_AI(self): # Simple AI for moving the right bat\n",
        "#        if self.ball.xcor() > -60:\n",
        "#            if self.R.ycor() < (self.ball.ycor() -35 ):\n",
        "#                self.bat_R_move_direction = 1\n",
        "#            elif self.R.ycor() > (self.ball.ycor() + 35 ):\n",
        "#                self.bat_R_move_direction = -1\n",
        "#            else:\n",
        "#                self.bat_R_move_direction = 0\n",
        "\n",
        "    def R_move_AI(self, AIbrain):\n",
        "        # Th where the neural network will be used to control the right bat\n",
        "        move = AIbrain.feedForward(np.array([self.R.xcor(), self.L.xcor(), self.ball.xcor(), self.ball.ycor(), self.ball.angle()]))\n",
        "        index = np.argmax(move)\n",
        "        if index == 0:\n",
        "            self.bat_R_move_direction = 1\n",
        "        elif index == 1:\n",
        "            self.bat_R_move_direction = -1\n",
        "        else:\n",
        "            self.bat_R_move_direction = 0\n",
        "        # THIS IS WHERE YOUR neural controller will go"
      ]
    },
    {
      "cell_type": "markdown",
      "metadata": {
        "id": "2EOznE8zSJhJ"
      },
      "source": [
        "The function below is responsible for setting up and running through and entire game (e.g. an **evaluation**).  This function returns the values that you will use for your **fitness** (i.e. the result of a run of the game). I have set it here to be the difference between our score and the opponent's score. This is so that our bat pays a solid defence and attack game. But you might want to change this. You could make this just the score of our bat for a more offensive game, or use genuinely multi-objective optimization, where you maximize our bat's score and minimize the opponent's score.\n",
        "\n",
        "Note: This Pong implementation uses Python's native Turtles package for displaying the game. However, this is only used if you call the game with Headless=False. It would be very slow to run evolutionary evaluations with the screen showing, so use Headless=True for evolving, and Headless = False for displaying your best evolved solution."
      ]
    },
    {
      "cell_type": "markdown",
      "metadata": {
        "id": "qi7G-q5zSJhJ"
      },
      "source": [
        "Note 2: If you want to see the game working before coding your EA then you could uncomment the code for the right back 'R_move_AI' and run playgame with 'headless=True'."
      ]
    },
    {
      "cell_type": "code",
      "execution_count": 158,
      "metadata": {
        "id": "utpUgM__SJhK"
      },
      "outputs": [],
      "source": [
        "def playGame(pongGame, AIbrain, headless=False, final = False, maxTimesteps=1000): # Pass your evolved AI in to here\n",
        "\n",
        "    pongGame.reset()\n",
        "    running = True\n",
        "    timesteps = 0\n",
        "    if not headless:\n",
        "        pongDisplay = DisplayGame(pongGame.window_height, pongGame.window_width, pongGame.bat_w_half, pongGame.bat_h_half)\n",
        "\n",
        "    for timesteps in range( maxTimesteps ):\n",
        "        pongGame.L_move_AI()\n",
        "        pongGame.R_move_AI(AIbrain)\n",
        "        pongGame.update_bat_positions()\n",
        "        pongGame.update_ball_position()\n",
        "        score_changed = pongGame.check_if_someone_scores()\n",
        "\n",
        "        # Let your algorithm decide on its move here (the options are L.up, L.down, or L.off)\n",
        "        if not headless:\n",
        "            pongDisplay.update_ball_position( pongGame.ball.xcor(), pongGame.ball.ycor() )\n",
        "            pongDisplay.update_L_bat_position( pongGame.L.xcor(), pongGame.L.ycor() )\n",
        "            pongDisplay.update_R_bat_position( pongGame.R.xcor(), pongGame.R.ycor() )\n",
        "            if score_changed: pongDisplay.update_score( pongGame.score_L, pongGame.score_R)\n",
        "            pongDisplay.screen.update()\n",
        "    if final:\n",
        "      print(pongGame.score_L, pongGame.score_R)\n",
        "    return( (pongGame.score_R - pongGame.score_L) )"
      ]
    },
    {
      "cell_type": "markdown",
      "metadata": {
        "id": "PLicZJH5SJhK"
      },
      "source": [
        "# <span style=\"color:blue\">Neural network code</span>"
      ]
    },
    {
      "cell_type": "markdown",
      "metadata": {
        "id": "YghI1zI1SJhK"
      },
      "source": [
        "The code below defines a simple MLP with two hard-coded hidden layers. Here, only the first hidden layer receives biases. We have seen this code before in Part A and in the walkthrough. Feel free to change this (or use Tensorflow)."
      ]
    },
    {
      "cell_type": "code",
      "execution_count": 159,
      "metadata": {
        "id": "lFU88R_jSJhK"
      },
      "outputs": [],
      "source": [
        "class MLP(object):\n",
        "    def __init__(self, numInput, numHidden1, numHidden2, numOutput):\n",
        "        self.fitness = 0\n",
        "        self.numInput = numInput + 1 # Add bias node from input to hidden layer 1 only\n",
        "        self.numHidden1 = numHidden1 # Feel free to adapt the code to add more biases if you wish\n",
        "        self.numHidden2 = numHidden2\n",
        "        self.numOutput = numOutput\n",
        "\n",
        "        self.w_i_h1 = np.random.randn(self.numHidden1, self.numInput)\n",
        "        self.w_h1_h2 = np.random.randn(self.numHidden2, self.numHidden1)\n",
        "        self.w_h2_o = np.random.randn(self.numOutput, self.numHidden2)\n",
        "\n",
        "        self.ReLU = lambda x : max(0,x)\n",
        "\n",
        "    def softmax(self, x):\n",
        "        e_x = np.exp(x - np.max(x))\n",
        "        return e_x / e_x.sum()\n",
        "\n",
        "    def feedForward(self, inputs):\n",
        "        print(inputs)\n",
        "        inputsBias = list(inputs[:])\n",
        "        inputsBias.insert(len(inputs),1)             # Add bias input\n",
        "        h1 = np.dot(self.w_i_h1, inputsBias)         # feed input to hidden layer 1\n",
        "        h1 = [self.ReLU(x) for x in h1]              # Activate hidden layer1\n",
        "\n",
        "        h2 = np.dot(self.w_h1_h2, h1)                 # feed layer 1 to hidden layer 2\n",
        "        h2 = [self.ReLU(x) for x in h2]              # Activate hidden layer 2\n",
        "\n",
        "        output = np.dot(self.w_h2_o, h2)             # feed to output layer\n",
        "        #output = [self.sigmoid(x) for x in output]   # Activate output layer\n",
        "        return self.softmax(output)\n",
        "\n",
        "    def getWeightsLinear(self):\n",
        "        flat_w_i_h1 = list(self.w_i_h1.flatten())\n",
        "        flat_w_h1_h2 = list(self.w_h1_h2.flatten())\n",
        "        flat_w_h2_o = list(self.w_h2_o.flatten())\n",
        "        return( flat_w_i_h1 + flat_w_h1_h2 + flat_w_h2_o )\n",
        "\n",
        "    def setWeightsLinear(self, Wgenome):\n",
        "      numWeights_I_H1 = self.numHidden1 * self.numInput\n",
        "      numWeights_H1_H2 = self.numHidden2 * self.numHidden1\n",
        "      numWeights_H2_O = self.numOutput * self.numHidden2  # noqa F841\n",
        "\n",
        "      self.w_i_h1 = np.array(Wgenome[:numWeights_I_H1])\n",
        "      self.w_i_h1 = self.w_i_h1.reshape((self.numHidden1, self.numInput))\n",
        "\n",
        "      self.w_h1_h2 = np.array(\n",
        "          Wgenome[numWeights_I_H1 : (numWeights_H1_H2 + numWeights_I_H1)]\n",
        "      )\n",
        "      self.w_h1_h2 = self.w_h1_h2.reshape((self.numHidden2, self.numHidden1))\n",
        "\n",
        "      self.w_h2_o = np.array(Wgenome[(numWeights_H1_H2 + numWeights_I_H1) :])\n",
        "      self.w_h2_o = self.w_h2_o.reshape((self.numOutput, self.numHidden2))"
      ]
    },
    {
      "cell_type": "markdown",
      "metadata": {
        "id": "fLH_qe66SJhK"
      },
      "source": [
        "# <span style=\"color:blue\">Your genetic algorithm should go here</span>"
      ]
    },
    {
      "cell_type": "markdown",
      "metadata": {
        "id": "Erw8mhdSSJhK"
      },
      "source": [
        "Add your GA here. I've got you started below."
      ]
    },
    {
      "cell_type": "code",
      "execution_count": 160,
      "metadata": {
        "id": "ZsjzUCTrSJhL"
      },
      "outputs": [],
      "source": [
        "from deap import base\n",
        "from deap import creator\n",
        "from deap import tools"
      ]
    },
    {
      "cell_type": "code",
      "execution_count": 161,
      "metadata": {
        "id": "SA-rbyoISJhL"
      },
      "outputs": [
        {
          "name": "stderr",
          "output_type": "stream",
          "text": [
            "/var/folders/01/z8y87srs6v7g5h7dy9fw6_kr0000gn/T/ipykernel_30978/2646800277.py:1: DeprecationWarning: Seeding based on hashing is deprecated\n",
            "since Python 3.9 and will be removed in a subsequent version. The only \n",
            "supported seed types are: None, int, float, str, bytes, and bytearray.\n",
            "  random.seed(datetime.now()) # Set a random seed from the clock\n"
          ]
        }
      ],
      "source": [
        "random.seed(datetime.now()) # Set a random seed from the clock\n",
        "\n",
        "numInputNodes = 6\n",
        "numHiddenNodes1 = 64\n",
        "numHiddenNodes2 = 32\n",
        "numOutputNodes = 3\n",
        "\n",
        "IND_SIZE = ((numInputNodes+1) * numHiddenNodes1) + (numHiddenNodes1 * numHiddenNodes2) + (numHiddenNodes2 * numOutputNodes)"
      ]
    },
    {
      "cell_type": "code",
      "execution_count": 162,
      "metadata": {
        "id": "9rZVzrm2SJhL"
      },
      "outputs": [],
      "source": [
        "myNet = MLP(numInputNodes, numHiddenNodes1, numHiddenNodes2, numOutputNodes)"
      ]
    },
    {
      "cell_type": "code",
      "execution_count": 163,
      "metadata": {
        "id": "S9WniFrVSJhL"
      },
      "outputs": [],
      "source": [
        "pongGame = Pong()\n",
        "\n",
        "def evaluate(indiv, myNet, game):\n",
        "    myNet.setWeightsLinear(indiv)   # Load the individual's weights into the neural network\n",
        "    fitness = playGame(game, myNet, headless=True) # Run the game with the individual's neural network\n",
        "    return fitness,"
      ]
    },
    {
      "cell_type": "code",
      "execution_count": 164,
      "metadata": {
        "id": "wm1oVpfrSJhL"
      },
      "outputs": [],
      "source": [
        "creator.create(\"FitnessMax\", base.Fitness, weights=(1.0,))\n",
        "creator.create(\"Individual\", list, fitness=creator.FitnessMax)\n",
        "\n",
        "toolbox = base.Toolbox()\n",
        "toolbox.register(\"attr_float\", random.uniform, -1.0, 1.0)\n",
        "toolbox.register(\"individual\", tools.initRepeat, creator.Individual,\n",
        "                 toolbox.attr_float, n=IND_SIZE)\n",
        "toolbox.register(\"evaluate\", evaluate)\n",
        "toolbox.register(\"select\", tools.selTournament, tournsize=3)\n",
        "\n",
        "toolbox.register(\"mutate\", tools.mutGaussian, mu=0.0, sigma=0.5, indpb=0.1)\n",
        "\n",
        "toolbox.register(\"population\", tools.initRepeat, list, toolbox.individual)"
      ]
    },
    {
      "cell_type": "code",
      "execution_count": 165,
      "metadata": {},
      "outputs": [],
      "source": [
        "stats = tools.Statistics(key=lambda ind: ind.fitness.values)\n",
        "stats.register(\"avg\", np.mean)\n",
        "stats.register(\"std\", np.std)\n",
        "stats.register(\"min\", np.min)\n",
        "stats.register(\"max\", np.max)"
      ]
    },
    {
      "cell_type": "code",
      "execution_count": 166,
      "metadata": {},
      "outputs": [],
      "source": [
        "logbook = tools.Logbook()\n",
        "\n",
        "pop = toolbox.population(n=100)"
      ]
    },
    {
      "cell_type": "code",
      "execution_count": 167,
      "metadata": {},
      "outputs": [
        {
          "name": "stdout",
          "output_type": "stream",
          "text": [
            "[ 215.    0. -175.  250.]\n"
          ]
        },
        {
          "ename": "ValueError",
          "evalue": "shapes (64,7) and (5,) not aligned: 7 (dim 1) != 5 (dim 0)",
          "output_type": "error",
          "traceback": [
            "\u001b[0;31m---------------------------------------------------------------------------\u001b[0m",
            "\u001b[0;31mValueError\u001b[0m                                Traceback (most recent call last)",
            "Cell \u001b[0;32mIn[167], line 1\u001b[0m\n\u001b[0;32m----> 1\u001b[0m fitnesses \u001b[38;5;241m=\u001b[39m [toolbox\u001b[38;5;241m.\u001b[39mevaluate(indiv, myNet, pongGame) \u001b[38;5;28;01mfor\u001b[39;00m indiv \u001b[38;5;129;01min\u001b[39;00m pop]\n\u001b[1;32m      2\u001b[0m \u001b[38;5;28;01mfor\u001b[39;00m ind, fit \u001b[38;5;129;01min\u001b[39;00m \u001b[38;5;28mzip\u001b[39m(pop, fitnesses):\n\u001b[1;32m      3\u001b[0m     ind\u001b[38;5;241m.\u001b[39mfitness\u001b[38;5;241m.\u001b[39mvalues \u001b[38;5;241m=\u001b[39m fit\n",
            "Cell \u001b[0;32mIn[167], line 1\u001b[0m, in \u001b[0;36m<listcomp>\u001b[0;34m(.0)\u001b[0m\n\u001b[0;32m----> 1\u001b[0m fitnesses \u001b[38;5;241m=\u001b[39m [\u001b[43mtoolbox\u001b[49m\u001b[38;5;241;43m.\u001b[39;49m\u001b[43mevaluate\u001b[49m\u001b[43m(\u001b[49m\u001b[43mindiv\u001b[49m\u001b[43m,\u001b[49m\u001b[43m \u001b[49m\u001b[43mmyNet\u001b[49m\u001b[43m,\u001b[49m\u001b[43m \u001b[49m\u001b[43mpongGame\u001b[49m\u001b[43m)\u001b[49m \u001b[38;5;28;01mfor\u001b[39;00m indiv \u001b[38;5;129;01min\u001b[39;00m pop]\n\u001b[1;32m      2\u001b[0m \u001b[38;5;28;01mfor\u001b[39;00m ind, fit \u001b[38;5;129;01min\u001b[39;00m \u001b[38;5;28mzip\u001b[39m(pop, fitnesses):\n\u001b[1;32m      3\u001b[0m     ind\u001b[38;5;241m.\u001b[39mfitness\u001b[38;5;241m.\u001b[39mvalues \u001b[38;5;241m=\u001b[39m fit\n",
            "Cell \u001b[0;32mIn[163], line 5\u001b[0m, in \u001b[0;36mevaluate\u001b[0;34m(indiv, myNet, game)\u001b[0m\n\u001b[1;32m      3\u001b[0m \u001b[38;5;28;01mdef\u001b[39;00m \u001b[38;5;21mevaluate\u001b[39m(indiv, myNet, game):\n\u001b[1;32m      4\u001b[0m     myNet\u001b[38;5;241m.\u001b[39msetWeightsLinear(indiv)   \u001b[38;5;66;03m# Load the individual's weights into the neural network\u001b[39;00m\n\u001b[0;32m----> 5\u001b[0m     fitness \u001b[38;5;241m=\u001b[39m \u001b[43mplayGame\u001b[49m\u001b[43m(\u001b[49m\u001b[43mgame\u001b[49m\u001b[43m,\u001b[49m\u001b[43m \u001b[49m\u001b[43mmyNet\u001b[49m\u001b[43m,\u001b[49m\u001b[43m \u001b[49m\u001b[43mheadless\u001b[49m\u001b[38;5;241;43m=\u001b[39;49m\u001b[38;5;28;43;01mTrue\u001b[39;49;00m\u001b[43m)\u001b[49m \u001b[38;5;66;03m# Run the game with the individual's neural network\u001b[39;00m\n\u001b[1;32m      6\u001b[0m     \u001b[38;5;28;01mreturn\u001b[39;00m fitness,\n",
            "Cell \u001b[0;32mIn[158], line 11\u001b[0m, in \u001b[0;36mplayGame\u001b[0;34m(pongGame, AIbrain, headless, final, maxTimesteps)\u001b[0m\n\u001b[1;32m      9\u001b[0m \u001b[38;5;28;01mfor\u001b[39;00m timesteps \u001b[38;5;129;01min\u001b[39;00m \u001b[38;5;28mrange\u001b[39m( maxTimesteps ):\n\u001b[1;32m     10\u001b[0m     pongGame\u001b[38;5;241m.\u001b[39mL_move_AI()\n\u001b[0;32m---> 11\u001b[0m     \u001b[43mpongGame\u001b[49m\u001b[38;5;241;43m.\u001b[39;49m\u001b[43mR_move_AI\u001b[49m\u001b[43m(\u001b[49m\u001b[43mAIbrain\u001b[49m\u001b[43m)\u001b[49m\n\u001b[1;32m     12\u001b[0m     pongGame\u001b[38;5;241m.\u001b[39mupdate_bat_positions()\n\u001b[1;32m     13\u001b[0m     pongGame\u001b[38;5;241m.\u001b[39mupdate_ball_position()\n",
            "Cell \u001b[0;32mIn[157], line 173\u001b[0m, in \u001b[0;36mPong.R_move_AI\u001b[0;34m(self, AIbrain)\u001b[0m\n\u001b[1;32m    171\u001b[0m \u001b[38;5;28;01mdef\u001b[39;00m \u001b[38;5;21mR_move_AI\u001b[39m(\u001b[38;5;28mself\u001b[39m, AIbrain):\n\u001b[1;32m    172\u001b[0m     \u001b[38;5;66;03m# Th where the neural network will be used to control the right bat\u001b[39;00m\n\u001b[0;32m--> 173\u001b[0m     move \u001b[38;5;241m=\u001b[39m \u001b[43mAIbrain\u001b[49m\u001b[38;5;241;43m.\u001b[39;49m\u001b[43mfeedForward\u001b[49m\u001b[43m(\u001b[49m\u001b[43mnp\u001b[49m\u001b[38;5;241;43m.\u001b[39;49m\u001b[43marray\u001b[49m\u001b[43m(\u001b[49m\u001b[43m[\u001b[49m\u001b[38;5;28;43mself\u001b[39;49m\u001b[38;5;241;43m.\u001b[39;49m\u001b[43mR\u001b[49m\u001b[38;5;241;43m.\u001b[39;49m\u001b[43mxcor\u001b[49m\u001b[43m(\u001b[49m\u001b[43m)\u001b[49m\u001b[43m,\u001b[49m\u001b[43m \u001b[49m\u001b[38;5;28;43mself\u001b[39;49m\u001b[38;5;241;43m.\u001b[39;49m\u001b[43mR\u001b[49m\u001b[38;5;241;43m.\u001b[39;49m\u001b[43mycor\u001b[49m\u001b[43m(\u001b[49m\u001b[43m)\u001b[49m\u001b[43m,\u001b[49m\u001b[43m \u001b[49m\u001b[38;5;28;43mself\u001b[39;49m\u001b[38;5;241;43m.\u001b[39;49m\u001b[43mball\u001b[49m\u001b[38;5;241;43m.\u001b[39;49m\u001b[43mxcor\u001b[49m\u001b[43m(\u001b[49m\u001b[43m)\u001b[49m\u001b[43m,\u001b[49m\u001b[43m \u001b[49m\u001b[38;5;28;43mself\u001b[39;49m\u001b[38;5;241;43m.\u001b[39;49m\u001b[43mball\u001b[49m\u001b[38;5;241;43m.\u001b[39;49m\u001b[43mycor\u001b[49m\u001b[43m(\u001b[49m\u001b[43m)\u001b[49m\u001b[43m]\u001b[49m\u001b[43m)\u001b[49m\u001b[43m)\u001b[49m\n\u001b[1;32m    174\u001b[0m     index \u001b[38;5;241m=\u001b[39m np\u001b[38;5;241m.\u001b[39margmax(move)\n\u001b[1;32m    175\u001b[0m     \u001b[38;5;28;01mif\u001b[39;00m index \u001b[38;5;241m==\u001b[39m \u001b[38;5;241m0\u001b[39m:\n",
            "Cell \u001b[0;32mIn[159], line 23\u001b[0m, in \u001b[0;36mMLP.feedForward\u001b[0;34m(self, inputs)\u001b[0m\n\u001b[1;32m     21\u001b[0m inputsBias \u001b[38;5;241m=\u001b[39m \u001b[38;5;28mlist\u001b[39m(inputs[:])\n\u001b[1;32m     22\u001b[0m inputsBias\u001b[38;5;241m.\u001b[39minsert(\u001b[38;5;28mlen\u001b[39m(inputs),\u001b[38;5;241m1\u001b[39m)             \u001b[38;5;66;03m# Add bias input\u001b[39;00m\n\u001b[0;32m---> 23\u001b[0m h1 \u001b[38;5;241m=\u001b[39m \u001b[43mnp\u001b[49m\u001b[38;5;241;43m.\u001b[39;49m\u001b[43mdot\u001b[49m\u001b[43m(\u001b[49m\u001b[38;5;28;43mself\u001b[39;49m\u001b[38;5;241;43m.\u001b[39;49m\u001b[43mw_i_h1\u001b[49m\u001b[43m,\u001b[49m\u001b[43m \u001b[49m\u001b[43minputsBias\u001b[49m\u001b[43m)\u001b[49m         \u001b[38;5;66;03m# feed input to hidden layer 1\u001b[39;00m\n\u001b[1;32m     24\u001b[0m h1 \u001b[38;5;241m=\u001b[39m [\u001b[38;5;28mself\u001b[39m\u001b[38;5;241m.\u001b[39mReLU(x) \u001b[38;5;28;01mfor\u001b[39;00m x \u001b[38;5;129;01min\u001b[39;00m h1]              \u001b[38;5;66;03m# Activate hidden layer1\u001b[39;00m\n\u001b[1;32m     26\u001b[0m h2 \u001b[38;5;241m=\u001b[39m np\u001b[38;5;241m.\u001b[39mdot(\u001b[38;5;28mself\u001b[39m\u001b[38;5;241m.\u001b[39mw_h1_h2, h1)                 \u001b[38;5;66;03m# feed layer 1 to hidden layer 2\u001b[39;00m\n",
            "\u001b[0;31mValueError\u001b[0m: shapes (64,7) and (5,) not aligned: 7 (dim 1) != 5 (dim 0)"
          ]
        }
      ],
      "source": [
        "fitnesses = [toolbox.evaluate(indiv, myNet, pongGame) for indiv in pop]\n",
        "for ind, fit in zip(pop, fitnesses):\n",
        "    ind.fitness.values = fit"
      ]
    },
    {
      "cell_type": "code",
      "execution_count": null,
      "metadata": {},
      "outputs": [
        {
          "name": "stdout",
          "output_type": "stream",
          "text": [
            "-- Generation 0 --\n",
            "-- Generation 1 --\n",
            "-- Generation 2 --\n",
            "-- Generation 3 --\n",
            "-- Generation 4 --\n",
            "-- Generation 5 --\n",
            "-- Generation 6 --\n",
            "-- Generation 7 --\n",
            "-- Generation 8 --\n",
            "-- Generation 9 --\n",
            "-- Generation 10 --\n",
            "-- Generation 11 --\n",
            "-- Generation 12 --\n",
            "-- Generation 13 --\n",
            "-- Generation 14 --\n",
            "-- Generation 15 --\n",
            "-- Generation 16 --\n",
            "-- Generation 17 --\n",
            "-- Generation 18 --\n",
            "-- Generation 19 --\n",
            "-- Generation 20 --\n",
            "-- Generation 21 --\n",
            "-- Generation 22 --\n",
            "-- Generation 23 --\n",
            "-- Generation 24 --\n",
            "-- Generation 25 --\n",
            "-- Generation 26 --\n",
            "-- Generation 27 --\n",
            "-- Generation 28 --\n",
            "-- Generation 29 --\n",
            "-- Generation 30 --\n",
            "-- Generation 31 --\n",
            "-- Generation 32 --\n",
            "-- Generation 33 --\n",
            "-- Generation 34 --\n",
            "-- Generation 35 --\n",
            "-- Generation 36 --\n",
            "-- Generation 37 --\n",
            "-- Generation 38 --\n",
            "-- Generation 39 --\n"
          ]
        }
      ],
      "source": [
        "NGEN = 40\n",
        "\n",
        "for g in range(NGEN):\n",
        "    print(\"-- Generation %i --\" % g)\n",
        "      \n",
        "    offspring = toolbox.select(pop, len(pop))\n",
        "    offspring = list(map(toolbox.clone, offspring))\n",
        "\n",
        "    for mutant in offspring:\n",
        "        toolbox.mutate(mutant)\n",
        "        del mutant.fitness.values\n",
        "                         \n",
        "    invalid_ind = [ind for ind in offspring if not ind.fitness.valid]\n",
        "    fitnesses = [toolbox.evaluate(indiv, myNet, pongGame) for indiv in invalid_ind]\n",
        "    for ind, fit in zip(invalid_ind, fitnesses):\n",
        "         ind.fitness.values = fit\n",
        "    \n",
        "    pop[:] = offspring\n",
        "    record = stats.compile(pop)\n",
        "    logbook.record(gen=g, **record)"
      ]
    },
    {
      "cell_type": "markdown",
      "metadata": {
        "id": "pjmtL1hJSJhL"
      },
      "source": [
        "Note: it might be a good idea to save your population using pickle, so that you can pick up evolution later from the end-point of your current population (see the DEAP webpage, plus info on Python's Pickle package)."
      ]
    },
    {
      "cell_type": "code",
      "execution_count": null,
      "metadata": {
        "id": "aolbyHGJSJhL"
      },
      "outputs": [],
      "source": [
        "logbook.header = \"gen\", \"avg\", \"evals\", \"std\", \"min\", \"max\""
      ]
    },
    {
      "cell_type": "code",
      "execution_count": null,
      "metadata": {},
      "outputs": [],
      "source": [
        "import matplotlib.pyplot as plt\n",
        "%matplotlib inline\n",
        "gen = logbook.select(\"gen\")\n",
        "avgs = logbook.select(\"avg\")\n",
        "stds = logbook.select(\"std\")"
      ]
    },
    {
      "cell_type": "code",
      "execution_count": null,
      "metadata": {},
      "outputs": [
        {
          "data": {
            "text/plain": [
              "(-3,)"
            ]
          },
          "execution_count": 105,
          "metadata": {},
          "output_type": "execute_result"
        }
      ],
      "source": [
        "indiv1 = tools.selBest(pop, 1)[0]\n",
        "toolbox.evaluate(indiv1, myNet, pongGame)\n",
        "\n"
      ]
    },
    {
      "cell_type": "code",
      "execution_count": null,
      "metadata": {},
      "outputs": [
        {
          "name": "stdout",
          "output_type": "stream",
          "text": [
            "4 0\n"
          ]
        },
        {
          "data": {
            "text/plain": [
              "-4"
            ]
          },
          "execution_count": 107,
          "metadata": {},
          "output_type": "execute_result"
        }
      ],
      "source": [
        "myNet.setWeightsLinear(indiv1)   # Load the individual's weights into the neural network\n",
        "playGame(pongGame, myNet, headless=True, final=True, maxTimesteps=1000)"
      ]
    }
  ],
  "metadata": {
    "colab": {
      "provenance": []
    },
    "kernelspec": {
      "display_name": "Python 3",
      "language": "python",
      "name": "python3"
    },
    "language_info": {
      "codemirror_mode": {
        "name": "ipython",
        "version": 3
      },
      "file_extension": ".py",
      "mimetype": "text/x-python",
      "name": "python",
      "nbconvert_exporter": "python",
      "pygments_lexer": "ipython3",
      "version": "3.10.9"
    }
  },
  "nbformat": 4,
  "nbformat_minor": 0
}
