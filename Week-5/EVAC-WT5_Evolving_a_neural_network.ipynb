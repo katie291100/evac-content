{
 "cells": [
  {
   "cell_type": "code",
   "execution_count": 1,
   "metadata": {},
   "outputs": [
    {
     "name": "stdout",
     "output_type": "stream",
     "text": [
      "Requirement already satisfied: pygame in /Library/Frameworks/Python.framework/Versions/3.10/lib/python3.10/site-packages (2.5.2)\n",
      "Note: you may need to restart the kernel to use updated packages.\n"
     ]
    }
   ],
   "source": [
    "pip install pygame\n"
   ]
  },
  {
   "cell_type": "markdown",
   "metadata": {},
   "source": [
    "# Walkthrough: Basic neuroevolution\n",
    "\n",
    "In this walkthrough we demonstrate how to evolve weights of a simple MLP neural network. The problem that we will use to demonstrate this is a Python implementation of the legendary mobile game Flappy bird.\n",
    "\n",
    "<img src=\"flappyBird.jpg\" alt=\"Flappy Bird\" width=450>"
   ]
  },
  {
   "cell_type": "markdown",
   "metadata": {},
   "source": [
    "# Defining a simple neural network\n",
    "\n",
    "<img src=\"MLP.jpg\" alt=\"MLP\" width=400>\n",
    "\n",
    "There are packages out there dedicated to producing neural networks, such as Tensorflow and Pytorch. However, for simplicity we will implement our own basic MLP, fully-connected and hard-coded with two hidden layers. For simplicity, I've also only added a single bias to the first hidden layer, but normally you'd have these for each layer.\n",
    "\n",
    "Let's start by defining a class for our network:"
   ]
  },
  {
   "cell_type": "code",
   "execution_count": 2,
   "metadata": {},
   "outputs": [],
   "source": [
    "import numpy as np\n",
    "import math\n",
    "\n",
    "class MLP(object):\n",
    "    def __init__(self, numInput, numHidden1, numHidden2, numOutput):\n",
    "        self.fitness = 0\n",
    "        self.numInput = numInput + 1 # Add bias node from input to hidden layer 1 only\n",
    "        self.numHidden1 = numHidden1 # Feel free to adapt the code to add more biases if you wish\n",
    "        self.numHidden2 = numHidden2\n",
    "        self.numOutput = numOutput\n",
    "\n",
    "        self.w_i_h1 = np.random.randn(self.numHidden1, self.numInput) \n",
    "        self.w_h1_h2 = np.random.randn(self.numHidden2, self.numHidden1) \n",
    "        self.w_h2_o = np.random.randn(self.numOutput, self.numHidden2)\n",
    "\n",
    "        self.ReLU = lambda x : max(0,x)\n",
    "\n",
    "    def sigmoid(self,x):\n",
    "        try:\n",
    "            ans = (1 / (1 + math.exp(-x)))\n",
    "        except OverflowError:\n",
    "            ans = float('inf')\n",
    "        return ans"
   ]
  },
  {
   "cell_type": "markdown",
   "metadata": {},
   "source": [
    "First we define the feedforward function of our network. To do this, we simply take the dot product of the input array and the weights from that input to the next layer of nodes. We then run those weighted sums through the ReLU function in the hidden layer, and the sigmoid in the last layer. This makes it similar to a non-linear regression problem."
   ]
  },
  {
   "cell_type": "code",
   "execution_count": 3,
   "metadata": {},
   "outputs": [],
   "source": [
    "class MLP(MLP):\n",
    "    def feedForward(self, inputs):\n",
    "        inputsBias = inputs[:]\n",
    "        inputsBias.insert(len(inputs),1)             # Add bias input\n",
    "\n",
    "        h1 = np.dot(self.w_i_h1, inputsBias)         # feed input to hidden layer 1\n",
    "        h1 = [self.ReLU(x) for x in h1]              # Activate hidden layer1\n",
    "        \n",
    "        h2 = np.dot(self.w_h1_h2, h1)                 # feed layer 1 to hidden layer 2\n",
    "        h2 = [self.ReLU(x) for x in h2]              # Activate hidden layer 2\n",
    "\n",
    "        output = np.dot(self.w_h2_o, h2)             # feed to output layer\n",
    "        output = [self.sigmoid(x) for x in output]   # Activate output layer\n",
    "        return output"
   ]
  },
  {
   "cell_type": "markdown",
   "metadata": {},
   "source": [
    "Next we define functions that allow the genetic algorithm to get and set the weights as a simple one-dimensional list. This means we can then just work with the built-in operators without having to worry about defining our own to work with multidimensional arrays."
   ]
  },
  {
   "cell_type": "code",
   "execution_count": 4,
   "metadata": {},
   "outputs": [],
   "source": [
    "class MLP(MLP):\n",
    "    \n",
    "    def getWeightsLinear(self):\n",
    "        flat_w_i_h1 = list(self.w_i_h1.flatten())\n",
    "        flat_w_h1_h2 = list(self.w_h1_h2.flatten())\n",
    "        flat_w_h2_o = list(self.w_h2_o.flatten())\n",
    "        return( flat_w_i_h1 + flat_w_h1_h2 + flat_w_h2_o )\n",
    "\n",
    "    def setWeightsLinear(self, Wgenome):\n",
    "        numWeights_I_H1 = self.numHidden1 * self.numInput\n",
    "        numWeights_H1_H2 = self.numHidden2 * self.numHidden1\n",
    "        numWeights_H2_O = self.numOutput * self.numHidden2\n",
    "\n",
    "        self.w_i_h1 = np.array(Wgenome[:numWeights_I_H1])\n",
    "        self.w_i_h1 = self.w_i_h1.reshape((self.numHidden1, self.numInput))\n",
    "        \n",
    "        self.w_h1_h2 = np.array(Wgenome[numWeights_I_H1:(numWeights_H1_H2+numWeights_I_H1)])\n",
    "        self.w_h1_h2 = self.w_h1_h2.reshape((self.numHidden2, self.numHidden1))\n",
    "\n",
    "        self.w_h2_o = np.array(Wgenome[(numWeights_H1_H2+numWeights_I_H1):])\n",
    "        self.w_h2_o = self.w_h2_o.reshape((self.numOutput, self.numHidden2))"
   ]
  },
  {
   "cell_type": "markdown",
   "metadata": {},
   "source": [
    "We will create a multi-layer perceptron with 3 inputs, 3 hidden nodes in hidden layer 1, and 2 in hidden layer 2, and 1 output. "
   ]
  },
  {
   "cell_type": "code",
   "execution_count": 5,
   "metadata": {},
   "outputs": [],
   "source": [
    "myNet = MLP(3,3,2,1)"
   ]
  },
  {
   "cell_type": "markdown",
   "metadata": {},
   "source": [
    "Let's run a test on it."
   ]
  },
  {
   "cell_type": "code",
   "execution_count": 6,
   "metadata": {},
   "outputs": [],
   "source": [
    "a = myNet.getWeightsLinear()"
   ]
  },
  {
   "cell_type": "code",
   "execution_count": 7,
   "metadata": {},
   "outputs": [
    {
     "data": {
      "text/plain": [
       "[-0.010882357560797364,\n",
       " -0.2945273526823423,\n",
       " 0.32047509726255546,\n",
       " 0.5112630146648344,\n",
       " 0.20366842177175834,\n",
       " 0.8206119195344065,\n",
       " -0.5140532857548272,\n",
       " 0.521069139315531,\n",
       " -0.9502971123835844,\n",
       " -1.4760123385065531,\n",
       " -0.05026650694956588,\n",
       " -0.9800224576468937,\n",
       " 0.9157551448972665,\n",
       " 1.1327535597501373,\n",
       " -0.5303206654492961,\n",
       " 0.4596375893788705,\n",
       " 1.314096124122693,\n",
       " 0.9865225455644179,\n",
       " -0.09082731291099118,\n",
       " -0.6821454067017636]"
      ]
     },
     "execution_count": 7,
     "metadata": {},
     "output_type": "execute_result"
    }
   ],
   "source": [
    "a"
   ]
  },
  {
   "cell_type": "markdown",
   "metadata": {},
   "source": [
    "It takes in a list of size 3 (inputs), and gives a list as output, with each element in the list being the output nodes (here we only have 1)."
   ]
  },
  {
   "cell_type": "code",
   "execution_count": 8,
   "metadata": {},
   "outputs": [],
   "source": [
    "inputs = [0.5, 1.3, 0.1]"
   ]
  },
  {
   "cell_type": "code",
   "execution_count": 9,
   "metadata": {},
   "outputs": [],
   "source": [
    "outcome = myNet.feedForward(inputs)"
   ]
  },
  {
   "cell_type": "markdown",
   "metadata": {},
   "source": [
    "The outcome will be between 0 and 1, due to the sigmoid function. To make this binary we can add a step function as with binary regression."
   ]
  },
  {
   "cell_type": "code",
   "execution_count": 10,
   "metadata": {},
   "outputs": [
    {
     "name": "stdout",
     "output_type": "stream",
     "text": [
      "[0.15464635824751344]\n"
     ]
    }
   ],
   "source": [
    "print(outcome)"
   ]
  },
  {
   "cell_type": "code",
   "execution_count": 11,
   "metadata": {},
   "outputs": [
    {
     "data": {
      "text/plain": [
       "0"
      ]
     },
     "execution_count": 11,
     "metadata": {},
     "output_type": "execute_result"
    }
   ],
   "source": [
    "int(outcome[0] > 0.5)"
   ]
  },
  {
   "cell_type": "markdown",
   "metadata": {},
   "source": [
    "# The game"
   ]
  },
  {
   "cell_type": "code",
   "execution_count": 12,
   "metadata": {},
   "outputs": [
    {
     "name": "stdout",
     "output_type": "stream",
     "text": [
      "pygame 2.5.2 (SDL 2.28.3, Python 3.10.9)\n",
      "Hello from the pygame community. https://www.pygame.org/contribute.html\n"
     ]
    }
   ],
   "source": [
    "import pygame"
   ]
  },
  {
   "cell_type": "markdown",
   "metadata": {},
   "source": [
    "The PyGame library is a cross-platform set of Python modules utilized to develop video games. PyGame mainly comprises computer graphics and sound libraries designed to be utilized with the Python programming language."
   ]
  },
  {
   "cell_type": "code",
   "execution_count": 13,
   "metadata": {},
   "outputs": [],
   "source": [
    "class FlappyBird:\n",
    "    def __init__(self):\n",
    "        self.screen = pygame.display.set_mode((400, 708))\n",
    "        self.bird = pygame.Rect(65, 50, 50, 50)\n",
    "        self.background = pygame.image.load(\"assets/background.png\").convert()\n",
    "        self.birdSprites = [pygame.image.load(\"assets/1.png\").convert_alpha(),\n",
    "                            pygame.image.load(\"assets/2.png\").convert_alpha(),\n",
    "                            pygame.image.load(\"assets/dead.png\")]\n",
    "        self.wallUp = pygame.image.load(\"assets/bottom.png\").convert_alpha()\n",
    "        self.wallDown = pygame.image.load(\"assets/top.png\").convert_alpha()\n",
    "        self.gap = 130\n",
    "        self.gravity = 5\n",
    "        self.delay = False\n",
    "        self.restart()\n",
    "\n",
    "    def updateWalls(self):\n",
    "        self.wallx -= 5\n",
    "        self.distanceMoved += 5\n",
    "        if self.wallx < -80:\n",
    "            self.wallx = 400\n",
    "            self.counter += 1\n",
    "            self.offset = np.random.randint(-180, 200)\n",
    "\n",
    "    def birdUpdate(self):\n",
    "        if self.jump:\n",
    "            self.jumpSpeed -= 1\n",
    "            self.birdY -= self.jumpSpeed\n",
    "            self.jump -= 1\n",
    "        else:\n",
    "            self.birdY += self.gravity\n",
    "            self.gravity += 0.2\n",
    "        self.bird[1] = self.birdY\n",
    "        upRect = pygame.Rect(self.wallx,\n",
    "                             360 + self.gap - self.offset + 10,\n",
    "                             self.wallUp.get_width() - 10,\n",
    "                             self.wallUp.get_height())\n",
    "        downRect = pygame.Rect(self.wallx,\n",
    "                               0 - self.gap - self.offset - 10,\n",
    "                               self.wallDown.get_width() - 10,\n",
    "                               self.wallDown.get_height())\n",
    "\n",
    "        if upRect.colliderect(self.bird):\n",
    "            self.dead = True\n",
    "        if downRect.colliderect(self.bird):\n",
    "            self.dead = True\n",
    "\n",
    "        if not 0 < self.bird[1] < 720:\n",
    "            self.dead = True\n",
    "\n",
    "    def updateScreen(self):\n",
    "        font = pygame.font.SysFont(\"Arial\", 50)\n",
    "        self.screen.fill((255, 255, 255))\n",
    "        self.screen.blit(self.background, (0, 0))\n",
    "        self.wallUpY = 360 + self.gap - self.offset\n",
    "        self.wallDownY = 0 - self.gap - self.offset\n",
    "        self.screen.blit(self.wallUp, (self.wallx, self.wallUpY))\n",
    "        self.screen.blit(self.wallDown, (self.wallx, self.wallDownY))\n",
    "        self.screen.blit(font.render(str(self.counter), -1, (255, 255, 255)),(200, 50))\n",
    "        self.screen.blit(self.birdSprites[self.sprite], (70, self.birdY))\n",
    "\n",
    "    def makeJump(self):\n",
    "        self.jump = 17\n",
    "        self.gravity = 5\n",
    "        self.jumpSpeed = 10\n",
    "\n",
    "    def restart(self):\n",
    "        self.wallx = 400\n",
    "        self.wallUpY = 0\n",
    "        self.wallDownY = 0\n",
    "        self.birdY = 400\n",
    "        self.jump = 0 # A timer for the jump\n",
    "        self.jumpSpeed = 10\n",
    "        self.dead = False\n",
    "        self.sprite = 1\n",
    "        self.distanceMoved = 0\n",
    "        self.counter = 0\n",
    "        self.stepsSinceLastJump = 0\n",
    "        self.offset = np.random.randint(-180, 300)\n",
    "\n",
    "    def run(self, network):\n",
    "        pygame.font.init()\n",
    "\n",
    "        while self.dead == False:\n",
    "            for event in pygame.event.get():\n",
    "                if event.type == pygame.QUIT:\n",
    "                    sys.exit()\n",
    "                if (event.type == pygame.KEYDOWN) and not self.dead:\n",
    "                    #self.makeJump()\n",
    "                    if self.delay:\n",
    "                        self.delay = False\n",
    "                    else:\n",
    "                        self.delay = True\n",
    "\n",
    "            if self.delay: time.sleep(0.01)\n",
    "                    \n",
    "            # We don't want it going on forever, so set an upper limit\n",
    "            if self.counter == 10:\n",
    "                self.dead = True\n",
    "\n",
    "            self.xdiff = 70 - self.wallx\n",
    "            ydiffUp = self.birdY - self.wallUpY\n",
    "            ydiffDown = self.birdY - self.wallDownY\n",
    "            decision = network.feedForward([self.xdiff, ydiffUp, ydiffDown])\n",
    "\n",
    "            if decision[0] > 0.5 and not self.dead:\n",
    "                self.makeJump()\n",
    "\n",
    "            self.updateScreen()\n",
    "            self.updateWalls()\n",
    "            self.birdUpdate()\n",
    "            \n",
    "            pygame.display.update()\n",
    "\n",
    "        return self.distanceMoved"
   ]
  },
  {
   "cell_type": "markdown",
   "metadata": {},
   "source": [
    "# The Genetic Algorithm"
   ]
  },
  {
   "cell_type": "markdown",
   "metadata": {},
   "source": [
    "One approach could be to create a population of neural networks. However, that might be slow (and involve using copy.deepcopy) and not allow you to use DEAP's built in operators. Instead, we will evolve a population of flat lists, representing the neural network weights. We will only need to instantiate a single neural network to evaluate the fitness of those weights."
   ]
  },
  {
   "cell_type": "code",
   "execution_count": 14,
   "metadata": {},
   "outputs": [],
   "source": [
    "from deap import base\n",
    "from deap import creator\n",
    "from deap import tools\n",
    "\n",
    "import random\n",
    "import time"
   ]
  },
  {
   "cell_type": "code",
   "execution_count": 15,
   "metadata": {},
   "outputs": [],
   "source": [
    "numInputNodes = 3\n",
    "numHiddenNodes1 = 3\n",
    "numHiddenNodes2 = 2\n",
    "numOutputNodes = 1\n",
    "\n",
    "IND_SIZE = ((numInputNodes+1) * numHiddenNodes1) + (numHiddenNodes1 * numHiddenNodes2) + (numHiddenNodes2 * numOutputNodes)"
   ]
  },
  {
   "cell_type": "markdown",
   "metadata": {},
   "source": [
    "We now create a single neural network controller that we will use. We will evolve weights and pass them to this network when we need to evaluate their fitness."
   ]
  },
  {
   "cell_type": "code",
   "execution_count": 16,
   "metadata": {},
   "outputs": [],
   "source": [
    "myNet = MLP(numInputNodes, numHiddenNodes1, numHiddenNodes2, numOutputNodes)"
   ]
  },
  {
   "cell_type": "code",
   "execution_count": 17,
   "metadata": {},
   "outputs": [],
   "source": [
    "creator.create(\"FitnessMax\", base.Fitness, weights=(1.0,))\n",
    "creator.create(\"Individual\", list, fitness=creator.FitnessMax)\n",
    "\n",
    "toolbox = base.Toolbox()\n",
    "toolbox.register(\"attr_float\", random.uniform, -1.0, 1.0)\n",
    "toolbox.register(\"individual\", tools.initRepeat, creator.Individual,\n",
    "                 toolbox.attr_float, n=IND_SIZE)"
   ]
  },
  {
   "cell_type": "code",
   "execution_count": 18,
   "metadata": {},
   "outputs": [],
   "source": [
    "def evaluate(indiv, myNet, game):\n",
    "    myNet.setWeightsLinear(indiv)   # Load the individual's weights into the neural network\n",
    "    game.restart()\n",
    "    fitness = game.run(myNet) # Evaluate the individual by running the game (discuss)\n",
    "    return fitness,"
   ]
  },
  {
   "cell_type": "code",
   "execution_count": 19,
   "metadata": {},
   "outputs": [],
   "source": [
    "toolbox.register(\"evaluate\", evaluate)\n",
    "toolbox.register(\"select\", tools.selTournament, tournsize=3)\n",
    "\n",
    "toolbox.register(\"mutate\", tools.mutGaussian, mu=0.0, sigma=0.5, indpb=0.1)"
   ]
  },
  {
   "cell_type": "code",
   "execution_count": 20,
   "metadata": {},
   "outputs": [],
   "source": [
    "toolbox.register(\"population\", tools.initRepeat, list, toolbox.individual)"
   ]
  },
  {
   "cell_type": "code",
   "execution_count": 21,
   "metadata": {},
   "outputs": [],
   "source": [
    "stats = tools.Statistics(key=lambda ind: ind.fitness.values)\n",
    "stats.register(\"avg\", np.mean)\n",
    "stats.register(\"std\", np.std)\n",
    "stats.register(\"min\", np.min)\n",
    "stats.register(\"max\", np.max)"
   ]
  },
  {
   "cell_type": "code",
   "execution_count": 22,
   "metadata": {},
   "outputs": [],
   "source": [
    "logbook = tools.Logbook()\n",
    "\n",
    "pop = toolbox.population(n=100)"
   ]
  },
  {
   "cell_type": "markdown",
   "metadata": {},
   "source": [
    "We create a single game object. We will use this single object evaluate each of our solutions."
   ]
  },
  {
   "cell_type": "code",
   "execution_count": 23,
   "metadata": {},
   "outputs": [
    {
     "ename": "FileNotFoundError",
     "evalue": "No file 'assets/background.png' found in working directory '/Users/katiemaison/Documents/Repositories/evac-content/Week-5'.",
     "output_type": "error",
     "traceback": [
      "\u001b[0;31m---------------------------------------------------------------------------\u001b[0m",
      "\u001b[0;31mFileNotFoundError\u001b[0m                         Traceback (most recent call last)",
      "Cell \u001b[0;32mIn[23], line 1\u001b[0m\n\u001b[0;32m----> 1\u001b[0m game \u001b[38;5;241m=\u001b[39m \u001b[43mFlappyBird\u001b[49m\u001b[43m(\u001b[49m\u001b[43m)\u001b[49m\n",
      "Cell \u001b[0;32mIn[13], line 5\u001b[0m, in \u001b[0;36mFlappyBird.__init__\u001b[0;34m(self)\u001b[0m\n\u001b[1;32m      3\u001b[0m \u001b[38;5;28mself\u001b[39m\u001b[38;5;241m.\u001b[39mscreen \u001b[38;5;241m=\u001b[39m pygame\u001b[38;5;241m.\u001b[39mdisplay\u001b[38;5;241m.\u001b[39mset_mode((\u001b[38;5;241m400\u001b[39m, \u001b[38;5;241m708\u001b[39m))\n\u001b[1;32m      4\u001b[0m \u001b[38;5;28mself\u001b[39m\u001b[38;5;241m.\u001b[39mbird \u001b[38;5;241m=\u001b[39m pygame\u001b[38;5;241m.\u001b[39mRect(\u001b[38;5;241m65\u001b[39m, \u001b[38;5;241m50\u001b[39m, \u001b[38;5;241m50\u001b[39m, \u001b[38;5;241m50\u001b[39m)\n\u001b[0;32m----> 5\u001b[0m \u001b[38;5;28mself\u001b[39m\u001b[38;5;241m.\u001b[39mbackground \u001b[38;5;241m=\u001b[39m \u001b[43mpygame\u001b[49m\u001b[38;5;241;43m.\u001b[39;49m\u001b[43mimage\u001b[49m\u001b[38;5;241;43m.\u001b[39;49m\u001b[43mload\u001b[49m\u001b[43m(\u001b[49m\u001b[38;5;124;43m\"\u001b[39;49m\u001b[38;5;124;43massets/background.png\u001b[39;49m\u001b[38;5;124;43m\"\u001b[39;49m\u001b[43m)\u001b[49m\u001b[38;5;241m.\u001b[39mconvert()\n\u001b[1;32m      6\u001b[0m \u001b[38;5;28mself\u001b[39m\u001b[38;5;241m.\u001b[39mbirdSprites \u001b[38;5;241m=\u001b[39m [pygame\u001b[38;5;241m.\u001b[39mimage\u001b[38;5;241m.\u001b[39mload(\u001b[38;5;124m\"\u001b[39m\u001b[38;5;124massets/1.png\u001b[39m\u001b[38;5;124m\"\u001b[39m)\u001b[38;5;241m.\u001b[39mconvert_alpha(),\n\u001b[1;32m      7\u001b[0m                     pygame\u001b[38;5;241m.\u001b[39mimage\u001b[38;5;241m.\u001b[39mload(\u001b[38;5;124m\"\u001b[39m\u001b[38;5;124massets/2.png\u001b[39m\u001b[38;5;124m\"\u001b[39m)\u001b[38;5;241m.\u001b[39mconvert_alpha(),\n\u001b[1;32m      8\u001b[0m                     pygame\u001b[38;5;241m.\u001b[39mimage\u001b[38;5;241m.\u001b[39mload(\u001b[38;5;124m\"\u001b[39m\u001b[38;5;124massets/dead.png\u001b[39m\u001b[38;5;124m\"\u001b[39m)]\n\u001b[1;32m      9\u001b[0m \u001b[38;5;28mself\u001b[39m\u001b[38;5;241m.\u001b[39mwallUp \u001b[38;5;241m=\u001b[39m pygame\u001b[38;5;241m.\u001b[39mimage\u001b[38;5;241m.\u001b[39mload(\u001b[38;5;124m\"\u001b[39m\u001b[38;5;124massets/bottom.png\u001b[39m\u001b[38;5;124m\"\u001b[39m)\u001b[38;5;241m.\u001b[39mconvert_alpha()\n",
      "\u001b[0;31mFileNotFoundError\u001b[0m: No file 'assets/background.png' found in working directory '/Users/katiemaison/Documents/Repositories/evac-content/Week-5'."
     ]
    }
   ],
   "source": [
    "game = FlappyBird()"
   ]
  },
  {
   "cell_type": "code",
   "execution_count": null,
   "metadata": {},
   "outputs": [],
   "source": [
    "fitnesses = [toolbox.evaluate(indiv, myNet, game) for indiv in pop]\n",
    "for ind, fit in zip(pop, fitnesses):\n",
    "    ind.fitness.values = fit"
   ]
  },
  {
   "cell_type": "code",
   "execution_count": null,
   "metadata": {
    "scrolled": true
   },
   "outputs": [
    {
     "name": "stdout",
     "output_type": "stream",
     "text": [
      "-- Generation 0 --\n",
      "-- Generation 1 --\n",
      "-- Generation 2 --\n",
      "-- Generation 3 --\n",
      "-- Generation 4 --\n",
      "-- Generation 5 --\n",
      "-- Generation 6 --\n",
      "-- Generation 7 --\n",
      "-- Generation 8 --\n",
      "-- Generation 9 --\n",
      "-- Generation 10 --\n",
      "-- Generation 11 --\n",
      "-- Generation 12 --\n",
      "-- Generation 13 --\n",
      "-- Generation 14 --\n",
      "-- Generation 15 --\n",
      "-- Generation 16 --\n",
      "-- Generation 17 --\n",
      "-- Generation 18 --\n",
      "-- Generation 19 --\n"
     ]
    }
   ],
   "source": [
    "NGEN = 20\n",
    "\n",
    "for g in range(NGEN):\n",
    "    print(\"-- Generation %i --\" % g)\n",
    "      \n",
    "    offspring = toolbox.select(pop, len(pop))\n",
    "    offspring = list(map(toolbox.clone, offspring))\n",
    "\n",
    "    for mutant in offspring:\n",
    "        toolbox.mutate(mutant)\n",
    "        del mutant.fitness.values\n",
    "                         \n",
    "    invalid_ind = [ind for ind in offspring if not ind.fitness.valid]\n",
    "    fitnesses = [toolbox.evaluate(indiv, myNet, game) for indiv in invalid_ind]\n",
    "    for ind, fit in zip(invalid_ind, fitnesses):\n",
    "         ind.fitness.values = fit\n",
    "    \n",
    "    pop[:] = offspring\n",
    "    record = stats.compile(pop)\n",
    "    logbook.record(gen=g, **record)"
   ]
  },
  {
   "cell_type": "markdown",
   "metadata": {},
   "source": [
    "# Quick examination of the algorithm"
   ]
  },
  {
   "cell_type": "code",
   "execution_count": null,
   "metadata": {},
   "outputs": [],
   "source": [
    "logbook.header = \"gen\", \"avg\", \"evals\", \"std\", \"min\", \"max\""
   ]
  },
  {
   "cell_type": "code",
   "execution_count": null,
   "metadata": {},
   "outputs": [],
   "source": [
    "import matplotlib.pyplot as plt\n",
    "%matplotlib inline\n",
    "gen = logbook.select(\"gen\")\n",
    "avgs = logbook.select(\"avg\")\n",
    "stds = logbook.select(\"std\")"
   ]
  },
  {
   "cell_type": "code",
   "execution_count": null,
   "metadata": {},
   "outputs": [
    {
     "data": {
      "text/plain": [
       "Text(0, 0.5, 'Mean Fitness')"
      ]
     },
     "execution_count": 34,
     "metadata": {},
     "output_type": "execute_result"
    },
    {
     "data": {
      "image/png": "[encoded data removed]",
      "text/plain": [
       "<Figure size 432x288 with 1 Axes>"
      ]
     },
     "metadata": {
      "needs_background": "light"
     },
     "output_type": "display_data"
    }
   ],
   "source": [
    "plt.rc('axes', labelsize=14)\n",
    "plt.rc('xtick', labelsize=14)\n",
    "plt.rc('ytick', labelsize=14) \n",
    "plt.rc('legend', fontsize=14)\n",
    "\n",
    "fig, ax1 = plt.subplots()\n",
    "#line1 = ax1.plot(gen, avgs)\n",
    "line1 = ax1.errorbar(gen, avgs, yerr=stds, errorevery=2)\n",
    "ax1.set_xlabel(\"Generation\")\n",
    "ax1.set_ylabel(\"Mean Fitness\")"
   ]
  },
  {
   "cell_type": "markdown",
   "metadata": {},
   "source": [
    "# Examine the best solution"
   ]
  },
  {
   "cell_type": "code",
   "execution_count": null,
   "metadata": {},
   "outputs": [
    {
     "data": {
      "text/plain": [
       "(4855,)"
      ]
     },
     "execution_count": 36,
     "metadata": {},
     "output_type": "execute_result"
    }
   ],
   "source": [
    "indiv1 = tools.selBest(pop, 1)[0]\n",
    "toolbox.evaluate(indiv1, myNet, game)"
   ]
  },
  {
   "cell_type": "markdown",
   "metadata": {},
   "source": [
    "# Points to think about"
   ]
  },
  {
   "cell_type": "markdown",
   "metadata": {},
   "source": [
    "1. The game has some element of chance, depending on how the random generator provides the level. In some games the variation due to chance/luck will be much greater. Where can we alter the code to account for this?\n",
    "2. Could you alter the code to turn connections on and off (a limited way of evolving the topology)?\n",
    "3. We have represented individuals as lists of weights. We have also not used crossover. This is because of the potential competing conventions problem with crossover."
   ]
  },
  {
   "cell_type": "code",
   "execution_count": null,
   "metadata": {},
   "outputs": [],
   "source": []
  }
 ],
 "metadata": {
  "kernelspec": {
   "display_name": "Python 3 (ipykernel)",
   "language": "python",
   "name": "python3"
  },
  "language_info": {
   "codemirror_mode": {
    "name": "ipython",
    "version": 3
   },
   "file_extension": ".py",
   "mimetype": "text/x-python",
   "name": "python",
   "nbconvert_exporter": "python",
   "pygments_lexer": "ipython3",
   "version": "3.10.9"
  }
 },
 "nbformat": 4,
 "nbformat_minor": 4
}
