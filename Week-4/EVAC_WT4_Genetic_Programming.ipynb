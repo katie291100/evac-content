{
  "cells": [
    {
      "cell_type": "markdown",
      "metadata": {
        "id": "B9WTJnzN32P-"
      },
      "source": [
        "# Genetic Programming"
      ]
    },
    {
      "cell_type": "markdown",
      "metadata": {
        "id": "C_HL_KLw32QE"
      },
      "source": [
        "**Context**\n",
        "\n",
        "This walkthrough will demonstrate genetic programming (GP) in DEAP. To do that we will address the 'odd parity' problem.\n",
        "\n",
        "Parity is one of the classical GP problems. The input is an array of Boolean values. The solution should output a 'parity bit' of 1 if there are an even number of values, and a 0 otherwise. Usually 6 Boolean inputs are used (Parity-6), and the goal is to match the good parity bit value for each of the possible entries.\n",
        "\n"
      ]
    },
    {
      "cell_type": "code",
      "execution_count": null,
      "metadata": {
        "id": "KoZsGWgX32QH"
      },
      "outputs": [],
      "source": [
        "import operator\n",
        "import random\n",
        "import pygraphviz as pgv\n",
        "import numpy\n",
        "\n",
        "from deap import algorithms\n",
        "from deap import base\n",
        "from deap import creator\n",
        "from deap import tools\n",
        "from deap import gp"
      ]
    },
    {
      "cell_type": "markdown",
      "metadata": {
        "id": "ySNnshnw32QK"
      },
      "source": [
        "# Training data generation"
      ]
    },
    {
      "cell_type": "markdown",
      "metadata": {
        "id": "QTGMTP3V32QL"
      },
      "source": [
        "First we initialize the parity problem input and output (target) matrices"
      ]
    },
    {
      "cell_type": "code",
      "execution_count": null,
      "metadata": {
        "id": "ACWhNgrI32QN"
      },
      "outputs": [],
      "source": [
        "PARITY_FANIN_M = 6\n",
        "PARITY_SIZE_M = 2**PARITY_FANIN_M\n",
        "\n",
        "inputs = [None] * PARITY_SIZE_M\n",
        "outputs = [None] * PARITY_SIZE_M"
      ]
    },
    {
      "cell_type": "code",
      "execution_count": null,
      "metadata": {
        "id": "W28hazaH32QO"
      },
      "outputs": [],
      "source": [
        "for i in range(PARITY_SIZE_M):\n",
        "    inputs[i] = [None] * PARITY_FANIN_M\n",
        "    value = i\n",
        "    dividor = PARITY_SIZE_M\n",
        "    parity = 1\n",
        "    for j in range(PARITY_FANIN_M):\n",
        "        dividor /= 2\n",
        "        if value >= dividor:\n",
        "            inputs[i][j] = 1\n",
        "            parity = int(not parity)\n",
        "            value -= dividor\n",
        "        else:\n",
        "            inputs[i][j] = 0\n",
        "    outputs[i] = parity"
      ]
    },
    {
      "cell_type": "markdown",
      "metadata": {
        "id": "TWiVl0jL32QO"
      },
      "source": [
        "Let's have a look at the training data that have been generated"
      ]
    },
    {
      "cell_type": "code",
      "execution_count": null,
      "metadata": {
        "id": "3xB0kkNw32QP",
        "outputId": "b33a4d1d-4e1c-4163-b39b-0affa688e8c7"
      },
      "outputs": [
        {
          "data": {
            "text/plain": [
              "64"
            ]
          },
          "execution_count": 11,
          "metadata": {},
          "output_type": "execute_result"
        }
      ],
      "source": [
        "len(inputs)"
      ]
    },
    {
      "cell_type": "code",
      "execution_count": null,
      "metadata": {
        "scrolled": true,
        "id": "x4dWBCSM32QR",
        "outputId": "bb92b79b-f012-4dcc-82d6-54faec837684"
      },
      "outputs": [
        {
          "name": "stdout",
          "output_type": "stream",
          "text": [
            "[0, 0, 0, 0, 0, 0] 1\n",
            "[0, 0, 0, 0, 0, 1] 0\n",
            "[0, 0, 0, 0, 1, 0] 0\n",
            "[0, 0, 0, 0, 1, 1] 1\n",
            "[0, 0, 0, 1, 0, 0] 0\n",
            "[0, 0, 0, 1, 0, 1] 1\n",
            "[0, 0, 0, 1, 1, 0] 1\n",
            "[0, 0, 0, 1, 1, 1] 0\n",
            "[0, 0, 1, 0, 0, 0] 0\n",
            "[0, 0, 1, 0, 0, 1] 1\n",
            "[0, 0, 1, 0, 1, 0] 1\n",
            "[0, 0, 1, 0, 1, 1] 0\n",
            "[0, 0, 1, 1, 0, 0] 1\n",
            "[0, 0, 1, 1, 0, 1] 0\n",
            "[0, 0, 1, 1, 1, 0] 0\n",
            "[0, 0, 1, 1, 1, 1] 1\n",
            "[0, 1, 0, 0, 0, 0] 0\n",
            "[0, 1, 0, 0, 0, 1] 1\n",
            "[0, 1, 0, 0, 1, 0] 1\n",
            "[0, 1, 0, 0, 1, 1] 0\n",
            "[0, 1, 0, 1, 0, 0] 1\n",
            "[0, 1, 0, 1, 0, 1] 0\n",
            "[0, 1, 0, 1, 1, 0] 0\n",
            "[0, 1, 0, 1, 1, 1] 1\n",
            "[0, 1, 1, 0, 0, 0] 1\n",
            "[0, 1, 1, 0, 0, 1] 0\n",
            "[0, 1, 1, 0, 1, 0] 0\n",
            "[0, 1, 1, 0, 1, 1] 1\n",
            "[0, 1, 1, 1, 0, 0] 0\n",
            "[0, 1, 1, 1, 0, 1] 1\n",
            "[0, 1, 1, 1, 1, 0] 1\n",
            "[0, 1, 1, 1, 1, 1] 0\n",
            "[1, 0, 0, 0, 0, 0] 0\n",
            "[1, 0, 0, 0, 0, 1] 1\n",
            "[1, 0, 0, 0, 1, 0] 1\n",
            "[1, 0, 0, 0, 1, 1] 0\n",
            "[1, 0, 0, 1, 0, 0] 1\n",
            "[1, 0, 0, 1, 0, 1] 0\n",
            "[1, 0, 0, 1, 1, 0] 0\n",
            "[1, 0, 0, 1, 1, 1] 1\n",
            "[1, 0, 1, 0, 0, 0] 1\n",
            "[1, 0, 1, 0, 0, 1] 0\n",
            "[1, 0, 1, 0, 1, 0] 0\n",
            "[1, 0, 1, 0, 1, 1] 1\n",
            "[1, 0, 1, 1, 0, 0] 0\n",
            "[1, 0, 1, 1, 0, 1] 1\n",
            "[1, 0, 1, 1, 1, 0] 1\n",
            "[1, 0, 1, 1, 1, 1] 0\n",
            "[1, 1, 0, 0, 0, 0] 1\n",
            "[1, 1, 0, 0, 0, 1] 0\n",
            "[1, 1, 0, 0, 1, 0] 0\n",
            "[1, 1, 0, 0, 1, 1] 1\n",
            "[1, 1, 0, 1, 0, 0] 0\n",
            "[1, 1, 0, 1, 0, 1] 1\n",
            "[1, 1, 0, 1, 1, 0] 1\n",
            "[1, 1, 0, 1, 1, 1] 0\n",
            "[1, 1, 1, 0, 0, 0] 0\n",
            "[1, 1, 1, 0, 0, 1] 1\n",
            "[1, 1, 1, 0, 1, 0] 1\n",
            "[1, 1, 1, 0, 1, 1] 0\n",
            "[1, 1, 1, 1, 0, 0] 1\n",
            "[1, 1, 1, 1, 0, 1] 0\n",
            "[1, 1, 1, 1, 1, 0] 0\n",
            "[1, 1, 1, 1, 1, 1] 1\n"
          ]
        }
      ],
      "source": [
        "for i, o in zip(inputs,outputs):\n",
        "    print(i,o)"
      ]
    },
    {
      "cell_type": "markdown",
      "metadata": {
        "id": "m6LwzXFE32QS"
      },
      "source": [
        "# Setting up the algorithm"
      ]
    },
    {
      "cell_type": "markdown",
      "metadata": {
        "id": "8Onb1fSn32QT"
      },
      "source": [
        "Our individual will be a function to which we will pass PARITY_FANIN_M values (here 6). As such, you need to define a primitive set that takes in that number of values. You would increase this if you wanted to pass more values, and have it at zero if your individual does not receive any arguments when it is executed."
      ]
    },
    {
      "cell_type": "code",
      "execution_count": null,
      "metadata": {
        "id": "7W0jW3Jl32QU"
      },
      "outputs": [],
      "source": [
        "#pset = gp.PrimitiveSet(\"MAIN\", 0)\n",
        "pset = gp.PrimitiveSet(\"MAIN\", PARITY_FANIN_M, \"IN\")"
      ]
    },
    {
      "cell_type": "markdown",
      "metadata": {
        "id": "Lxg6Ppjy32QU"
      },
      "source": [
        "By default input arguments are termed ARG0, ARG2 ... ARGi. We're fine with that here, but let's look at how to name the first argument ARG0 to x."
      ]
    },
    {
      "cell_type": "code",
      "execution_count": null,
      "metadata": {
        "id": "A9pOoHit32QV"
      },
      "outputs": [],
      "source": [
        "#pset.renameArguments(ARG0='x')"
      ]
    },
    {
      "cell_type": "markdown",
      "metadata": {
        "id": "yRzfXXdz32QW"
      },
      "source": [
        "# Now let's add some functions"
      ]
    },
    {
      "cell_type": "markdown",
      "metadata": {
        "id": "BEJX8l_j32QW"
      },
      "source": [
        "We now register our functions and terminals. We would normally not know the function in advance, and might want to start with a limited set and then expand if needed."
      ]
    },
    {
      "cell_type": "code",
      "execution_count": null,
      "metadata": {
        "id": "QWRjh8mb32QX"
      },
      "outputs": [],
      "source": [
        "pset.addPrimitive(operator.and_, 2)\n",
        "pset.addPrimitive(operator.or_, 2)\n",
        "pset.addPrimitive(operator.xor, 2)\n",
        "pset.addPrimitive(operator.not_, 1)\n",
        "pset.addTerminal(1)\n",
        "pset.addTerminal(0)"
      ]
    },
    {
      "cell_type": "markdown",
      "metadata": {
        "id": "ozCfnwlg32QY"
      },
      "source": [
        "It's possible to use other functions, such as math ones, but we're limited to logic functions here."
      ]
    },
    {
      "cell_type": "code",
      "execution_count": null,
      "metadata": {
        "id": "-et1a-eL32QY"
      },
      "outputs": [],
      "source": [
        "#pset.addPrimitive(operator.add, 2)\n",
        "#pset.addPrimitive(operator.sub, 2)\n",
        "#pset.addPrimitive(operator.mul, 2)\n",
        "#pset.addPrimitive(protectedDiv, 2)\n",
        "#pset.addPrimitive(operator.neg, 1)\n",
        "#pset.addPrimitive(math.sin, 1)\n",
        "#pset.addPrimitive(math.cos, 1)"
      ]
    },
    {
      "cell_type": "markdown",
      "metadata": {
        "id": "tR9HI0Gk32QZ"
      },
      "source": [
        "You can also add an **ephemeral Constant**. The value of the constant is randomly initialised and then kept constant for a particular individual tree, but will differ from one Tree to another. Again, we do not need that here."
      ]
    },
    {
      "cell_type": "code",
      "execution_count": null,
      "metadata": {
        "id": "Hc-7JUOk32QZ"
      },
      "outputs": [],
      "source": [
        "#pset.addEphemeralConstant(\"rand101\", lambda: random.randint(-1,1))"
      ]
    },
    {
      "cell_type": "markdown",
      "metadata": {
        "id": "ejwWlLW632Qa"
      },
      "source": [
        "Note that we have used lambda to create an anonymous function on the fly. This is so that we can define the arguments to randint to constrain it between -1 and 1."
      ]
    },
    {
      "cell_type": "code",
      "execution_count": null,
      "metadata": {
        "id": "XD2M1alb32Qb"
      },
      "outputs": [],
      "source": [
        "creator.create(\"FitnessMax\", base.Fitness, weights=(1.0,))\n",
        "creator.create(\"Individual\", gp.PrimitiveTree, fitness=creator.FitnessMax)"
      ]
    },
    {
      "cell_type": "markdown",
      "metadata": {
        "id": "W631xlrr32Qb"
      },
      "source": [
        "The only real decision that you need to make when defining populations in the toolbox is what type of initialization you want to use. Individuals will always be of type toolbox.expr."
      ]
    },
    {
      "cell_type": "code",
      "execution_count": null,
      "metadata": {
        "id": "byLdcUB432Qc"
      },
      "outputs": [],
      "source": [
        "toolbox = base.Toolbox()\n",
        "toolbox.register(\"expr\", gp.genHalfAndHalf, pset=pset, min_=3, max_=5)"
      ]
    },
    {
      "cell_type": "code",
      "execution_count": null,
      "metadata": {
        "id": "vGddYTsM32Qc"
      },
      "outputs": [],
      "source": [
        "toolbox.register(\"individual\", tools.initIterate, creator.Individual, toolbox.expr)\n",
        "toolbox.register(\"population\", tools.initRepeat, list, toolbox.individual)\n",
        "toolbox.register(\"compile\", gp.compile, pset=pset)"
      ]
    },
    {
      "cell_type": "code",
      "execution_count": null,
      "metadata": {
        "id": "NbSTkbxc32Qd"
      },
      "outputs": [],
      "source": [
        "toolbox.register(\"select\", tools.selTournament, tournsize=3)\n",
        "toolbox.register(\"mate\", gp.cxOnePoint)\n",
        "toolbox.register(\"expr_mut\", gp.genFull, min_=0, max_=2)\n",
        "toolbox.register(\"mutate\", gp.mutUniform, expr=toolbox.expr_mut, pset=pset)"
      ]
    },
    {
      "cell_type": "markdown",
      "metadata": {
        "id": "NTju4rQ832Qe"
      },
      "source": [
        "You might consider adding some limits on the height of any generated branch."
      ]
    },
    {
      "cell_type": "code",
      "execution_count": null,
      "metadata": {
        "id": "KlABPCwo32Qe"
      },
      "outputs": [],
      "source": [
        "toolbox.decorate(\"mate\", gp.staticLimit(key=operator.attrgetter(\"height\"), max_value=4))\n",
        "toolbox.decorate(\"mutate\", gp.staticLimit(key=operator.attrgetter(\"height\"), max_value=5))"
      ]
    },
    {
      "cell_type": "markdown",
      "metadata": {
        "id": "xDRIKZzA32Qf"
      },
      "source": [
        "## Evaluation function"
      ]
    },
    {
      "cell_type": "markdown",
      "metadata": {
        "id": "z98pqTZq32Qf"
      },
      "source": [
        "Provided below is the evaluation function that you should use."
      ]
    },
    {
      "cell_type": "code",
      "execution_count": null,
      "metadata": {
        "id": "jT9XqWcx32Qg"
      },
      "outputs": [],
      "source": [
        "def evalParity(individual):\n",
        "    func = toolbox.compile(expr=individual)\n",
        "    return sum(func(*in_) == out for in_, out in zip(inputs, outputs)),"
      ]
    },
    {
      "cell_type": "code",
      "execution_count": null,
      "metadata": {
        "id": "B-CVm5of32Qh"
      },
      "outputs": [],
      "source": [
        "toolbox.register(\"evaluate\", evalParity)"
      ]
    },
    {
      "cell_type": "markdown",
      "metadata": {
        "id": "GaBto6uF32Qi"
      },
      "source": [
        "## Register some stats"
      ]
    },
    {
      "cell_type": "code",
      "execution_count": null,
      "metadata": {
        "id": "6W6Cu-_D32Qi"
      },
      "outputs": [],
      "source": [
        "stats_fit = tools.Statistics(lambda ind: ind.fitness.values)\n",
        "stats_size = tools.Statistics(len)\n",
        "mstats = tools.MultiStatistics(fitness=stats_fit, size=stats_size)\n",
        "mstats.register(\"avg\", numpy.mean)\n",
        "mstats.register(\"std\", numpy.std)\n",
        "mstats.register(\"min\", numpy.min)\n",
        "mstats.register(\"max\", numpy.max)"
      ]
    },
    {
      "cell_type": "markdown",
      "metadata": {
        "id": "IlBEUFXH32Qj"
      },
      "source": [
        "## Main algorithm"
      ]
    },
    {
      "cell_type": "markdown",
      "metadata": {
        "id": "-gJt94mp32Qk"
      },
      "source": [
        "Before, you've always seen the full algorithm coded out. You can do the same here, but for brevity in this walkthrough I have used eaSimple."
      ]
    },
    {
      "cell_type": "code",
      "execution_count": null,
      "metadata": {
        "scrolled": true,
        "id": "s2uRq-FE32Qk",
        "outputId": "7fd7af38-c0d2-443f-c3e8-6403362cbb4b"
      },
      "outputs": [
        {
          "name": "stdout",
          "output_type": "stream",
          "text": [
            "   \t      \t                    fitness                    \t                      size                     \n",
            "   \t      \t-----------------------------------------------\t-----------------------------------------------\n",
            "gen\tnevals\tavg   \tgen\tmax\tmin\tnevals\tstd    \tavg   \tgen\tmax\tmin\tnevals\tstd    \n",
            "0  \t500   \t32.008\t0  \t34 \t26 \t500   \t0.40489\t17.832\t0  \t59 \t4  \t500   \t10.8368\n",
            "1  \t289   \t32.06 \t1  \t34 \t28 \t289   \t0.385227\t17.414\t1  \t59 \t2  \t289   \t12.0522\n",
            "2  \t271   \t32.114\t2  \t34 \t28 \t271   \t0.470111\t17.392\t2  \t59 \t1  \t271   \t12.758 \n",
            "3  \t270   \t32.262\t3  \t40 \t32 \t270   \t0.693798\t18.38 \t3  \t59 \t1  \t270   \t13.7782\n",
            "4  \t281   \t32.508\t4  \t40 \t32 \t281   \t0.849668\t22.25 \t4  \t59 \t1  \t281   \t16.3569\n",
            "5  \t246   \t32.964\t5  \t40 \t29 \t246   \t1.09485 \t29.912\t5  \t59 \t1  \t246   \t17.1308\n",
            "6  \t282   \t33.634\t6  \t40 \t30 \t282   \t1.24902 \t37.854\t6  \t59 \t1  \t282   \t13.799 \n",
            "7  \t285   \t34.152\t7  \t40 \t30 \t285   \t1.664   \t40.818\t7  \t55 \t4  \t285   \t11.1427\n",
            "8  \t264   \t34.77 \t8  \t40 \t24 \t264   \t2.25058 \t38.942\t8  \t51 \t1  \t264   \t12.5396\n",
            "9  \t309   \t35.876\t9  \t48 \t24 \t309   \t3.04772 \t36.434\t9  \t55 \t10 \t309   \t13.1308\n",
            "10 \t278   \t37.652\t10 \t48 \t28 \t278   \t3.20981 \t31.142\t10 \t52 \t1  \t278   \t12.9348\n",
            "11 \t281   \t38.956\t11 \t48 \t24 \t281   \t3.23575 \t27.644\t11 \t52 \t7  \t281   \t11.3865\n",
            "12 \t289   \t39.66 \t12 \t48 \t16 \t289   \t3.38059 \t25.548\t12 \t52 \t1  \t289   \t10.4766\n",
            "13 \t269   \t40.736\t13 \t48 \t24 \t269   \t3.88256 \t24.724\t13 \t52 \t3  \t269   \t9.73138\n",
            "14 \t271   \t41.932\t14 \t48 \t20 \t271   \t5.10405 \t23.354\t14 \t48 \t1  \t271   \t8.59818\n",
            "15 \t261   \t44.472\t15 \t48 \t16 \t261   \t5.29917 \t20.738\t15 \t50 \t1  \t261   \t5.21741\n",
            "16 \t268   \t46.444\t16 \t48 \t28 \t268   \t4.39669 \t19.642\t16 \t48 \t4  \t268   \t2.9923 \n",
            "17 \t265   \t46.688\t17 \t48 \t24 \t265   \t4.41165 \t19.218\t17 \t28 \t2  \t265   \t2.89732\n",
            "18 \t273   \t46.536\t18 \t48 \t24 \t273   \t4.67169 \t19.34 \t18 \t27 \t3  \t273   \t2.37327\n",
            "19 \t267   \t46.608\t19 \t48 \t16 \t267   \t4.66973 \t19.278\t19 \t25 \t1  \t267   \t3.144  \n",
            "20 \t266   \t46.616\t20 \t48 \t16 \t266   \t4.66868 \t19.472\t20 \t28 \t10 \t266   \t2.24348\n",
            "21 \t266   \t46.448\t21 \t48 \t24 \t266   \t4.79576 \t19.402\t21 \t25 \t3  \t266   \t2.52594\n",
            "22 \t298   \t46.36 \t22 \t48 \t16 \t298   \t5.07527 \t19.638\t22 \t27 \t1  \t298   \t2.97169\n",
            "23 \t261   \t47.04 \t23 \t48 \t32 \t261   \t3.73181 \t20.258\t23 \t31 \t13 \t261   \t2.42805\n",
            "24 \t291   \t45.984\t24 \t48 \t16 \t291   \t5.53965 \t20.082\t24 \t28 \t2  \t291   \t3.15203\n",
            "25 \t267   \t46.712\t25 \t48 \t16 \t267   \t4.55072 \t20.23 \t25 \t28 \t1  \t267   \t2.91292\n",
            "26 \t269   \t46.932\t26 \t48 \t32 \t269   \t3.97836 \t20.28 \t26 \t27 \t1  \t269   \t2.64908\n",
            "27 \t301   \t46.516\t27 \t48 \t16 \t301   \t4.94912 \t20.458\t27 \t27 \t1  \t301   \t2.65937\n",
            "28 \t244   \t46.6  \t28 \t48 \t24 \t244   \t4.58083 \t20.318\t28 \t25 \t1  \t244   \t2.9646 \n",
            "29 \t253   \t46.704\t29 \t48 \t32 \t253   \t4.27649 \t20.62 \t29 \t27 \t1  \t253   \t2.81133\n",
            "30 \t280   \t46.528\t30 \t48 \t24 \t280   \t4.67945 \t20.728\t30 \t28 \t3  \t280   \t2.98362\n",
            "31 \t264   \t46.656\t31 \t48 \t16 \t264   \t4.85156 \t21.1  \t31 \t28 \t1  \t264   \t3.22707\n",
            "32 \t305   \t46.648\t32 \t48 \t16 \t305   \t4.76614 \t21.422\t32 \t31 \t3  \t305   \t2.99598\n",
            "33 \t288   \t46.616\t33 \t48 \t16 \t288   \t4.59962 \t21.444\t33 \t30 \t1  \t288   \t3.19982\n",
            "34 \t277   \t47.04 \t34 \t48 \t24 \t277   \t3.79979 \t21.496\t34 \t30 \t2  \t277   \t3.21154\n",
            "35 \t266   \t46.92 \t35 \t48 \t24 \t266   \t4.0022  \t21.782\t35 \t27 \t7  \t266   \t2.8324 \n",
            "36 \t260   \t47.04 \t36 \t48 \t16 \t260   \t3.89954 \t21.94 \t36 \t28 \t1  \t260   \t2.73503\n",
            "37 \t271   \t46.848\t37 \t48 \t32 \t271   \t4.04189 \t21.964\t37 \t31 \t2  \t271   \t2.85144\n",
            "38 \t284   \t46.62 \t38 \t48 \t24 \t284   \t4.51039 \t22.096\t38 \t31 \t1  \t284   \t3.07421\n",
            "39 \t253   \t46.792\t39 \t48 \t24 \t253   \t4.29101 \t22.208\t39 \t31 \t1  \t253   \t3.16808\n",
            "40 \t289   \t46.48 \t40 \t48 \t16 \t289   \t4.81265 \t22.264\t40 \t28 \t3  \t289   \t3.017  \n",
            "41 \t281   \t46.8  \t41 \t48 \t16 \t281   \t4.55016 \t22.428\t41 \t28 \t1  \t281   \t3.16872\n",
            "42 \t304   \t46.888\t42 \t48 \t16 \t304   \t4.24211 \t22.662\t42 \t28 \t1  \t304   \t3.10286\n",
            "43 \t287   \t46.992\t43 \t48 \t16 \t287   \t4.16557 \t22.592\t43 \t30 \t8  \t287   \t2.84069\n",
            "44 \t280   \t47.12 \t44 \t48 \t16 \t280   \t3.73438 \t22.656\t44 \t32 \t6  \t280   \t2.96743\n",
            "45 \t256   \t46.816\t45 \t48 \t16 \t256   \t4.512   \t22.606\t45 \t29 \t1  \t256   \t3.34765\n",
            "46 \t298   \t47.04 \t46 \t48 \t24 \t298   \t3.96464 \t22.74 \t46 \t28 \t1  \t298   \t3.19005\n",
            "47 \t281   \t47.088\t47 \t48 \t32 \t281   \t3.68351 \t22.83 \t47 \t31 \t1  \t281   \t2.95856\n",
            "48 \t269   \t47.264\t48 \t48 \t16 \t269   \t3.46443 \t22.778\t48 \t31 \t7  \t269   \t2.92519\n",
            "49 \t280   \t47.176\t49 \t48 \t32 \t280   \t3.44921 \t22.722\t49 \t27 \t1  \t280   \t3.22997\n",
            "50 \t269   \t47.26 \t50 \t48 \t32 \t269   \t3.32812 \t22.746\t50 \t28 \t2  \t269   \t2.86033\n",
            "51 \t307   \t47.008\t51 \t48 \t16 \t307   \t4.11533 \t22.464\t51 \t28 \t1  \t307   \t3.67977\n",
            "52 \t270   \t47.112\t52 \t48 \t32 \t270   \t3.63256 \t22.734\t52 \t31 \t1  \t270   \t3.46688\n",
            "53 \t290   \t47.088\t53 \t48 \t16 \t290   \t4.17998 \t23.002\t53 \t30 \t2  \t290   \t3.26527\n",
            "54 \t284   \t47.192\t54 \t48 \t16 \t284   \t3.68607 \t23.104\t54 \t29 \t12 \t284   \t2.72051\n",
            "55 \t287   \t46.704\t55 \t48 \t24 \t287   \t4.35803 \t22.874\t55 \t30 \t1  \t287   \t3.26713\n",
            "56 \t289   \t47.12 \t56 \t48 \t24 \t289   \t3.66519 \t23.18 \t56 \t32 \t1  \t289   \t3.04952\n",
            "57 \t267   \t46.752\t57 \t48 \t32 \t267   \t4.23822 \t23.076\t57 \t30 \t1  \t267   \t3.32479\n",
            "58 \t277   \t46.752\t58 \t48 \t24 \t277   \t4.32047 \t23.26 \t58 \t29 \t1  \t277   \t3.13248\n",
            "59 \t266   \t47.344\t59 \t48 \t16 \t266   \t3.46203 \t23.448\t59 \t29 \t6  \t266   \t2.77404\n",
            "60 \t275   \t47.264\t60 \t48 \t24 \t275   \t3.38974 \t23.41 \t60 \t29 \t1  \t275   \t2.80605\n",
            "61 \t259   \t47.424\t61 \t48 \t16 \t259   \t3.14773 \t23.754\t61 \t30 \t12 \t259   \t2.55059\n",
            "62 \t266   \t47.356\t62 \t48 \t32 \t266   \t3.07917 \t23.626\t62 \t32 \t2  \t266   \t3.01366\n",
            "63 \t274   \t47.224\t63 \t48 \t32 \t274   \t3.40438 \t23.812\t63 \t30 \t6  \t274   \t2.61623\n",
            "64 \t283   \t47.328\t64 \t48 \t24 \t283   \t3.16929 \t23.906\t64 \t31 \t1  \t283   \t3.1121 \n",
            "65 \t291   \t46.992\t65 \t48 \t16 \t291   \t4.48374 \t23.866\t65 \t30 \t1  \t291   \t3.10484\n",
            "66 \t321   \t46.992\t66 \t48 \t16 \t321   \t4.00099 \t23.87 \t66 \t33 \t3  \t321   \t2.9828 \n",
            "67 \t279   \t47.096\t67 \t48 \t16 \t279   \t3.9657  \t24.04 \t67 \t28 \t1  \t279   \t2.42041\n",
            "68 \t280   \t47.008\t68 \t48 \t32 \t280   \t3.82517 \t23.99 \t68 \t27 \t1  \t280   \t2.74771\n",
            "69 \t275   \t47.288\t69 \t48 \t28 \t275   \t3.32341 \t24.134\t69 \t29 \t7  \t275   \t2.33924\n",
            "70 \t294   \t47.172\t70 \t48 \t32 \t294   \t3.4633  \t24.406\t70 \t31 \t12 \t294   \t2.03695\n",
            "71 \t249   \t47.432\t71 \t48 \t32 \t249   \t2.87843 \t24.568\t71 \t31 \t10 \t249   \t2.11693\n",
            "72 \t277   \t47.368\t72 \t48 \t16 \t277   \t3.35866 \t24.426\t72 \t31 \t3  \t277   \t2.61697\n",
            "73 \t248   \t47.296\t73 \t48 \t24 \t248   \t3.28152 \t24.398\t73 \t37 \t3  \t248   \t2.54157\n",
            "74 \t283   \t47.488\t74 \t48 \t32 \t283   \t2.816   \t24.438\t74 \t37 \t1  \t283   \t2.68145\n",
            "75 \t266   \t47.168\t75 \t48 \t16 \t266   \t4.02539 \t24.264\t75 \t31 \t1  \t266   \t2.5656 \n",
            "76 \t279   \t47.144\t76 \t48 \t24 \t279   \t3.64023 \t24.31 \t76 \t31 \t1  \t279   \t2.75933\n",
            "77 \t264   \t47.256\t77 \t48 \t16 \t264   \t3.50406 \t24.438\t77 \t31 \t1  \t264   \t2.76083\n",
            "78 \t283   \t47.144\t78 \t48 \t16 \t283   \t3.70989 \t24.454\t78 \t31 \t11 \t283   \t2.08132\n",
            "79 \t270   \t47.016\t79 \t48 \t24 \t270   \t3.94661 \t24.27 \t79 \t32 \t1  \t270   \t3.05567\n",
            "80 \t264   \t47.208\t80 \t48 \t16 \t264   \t3.70685 \t24.386\t80 \t31 \t6  \t264   \t2.43002\n",
            "81 \t260   \t47.384\t81 \t48 \t24 \t260   \t2.98874 \t24.466\t81 \t32 \t1  \t260   \t2.37841\n",
            "82 \t266   \t47.372\t82 \t48 \t16 \t266   \t3.50052 \t24.316\t82 \t31 \t3  \t266   \t2.55581\n",
            "83 \t286   \t47.168\t83 \t48 \t16 \t286   \t3.76242 \t24.16 \t83 \t31 \t1  \t286   \t2.69266\n",
            "84 \t256   \t47.44 \t84 \t48 \t16 \t256   \t3.09942 \t24.498\t84 \t32 \t3  \t256   \t2.44172\n",
            "85 \t323   \t47.008\t85 \t48 \t16 \t323   \t3.92428 \t24.296\t85 \t32 \t4  \t323   \t2.84893\n",
            "86 \t280   \t47.368\t86 \t48 \t24 \t280   \t3.12163 \t24.284\t86 \t31 \t2  \t280   \t3.12399\n",
            "87 \t278   \t47.072\t87 \t48 \t20 \t278   \t3.96419 \t24.45 \t87 \t31 \t1  \t278   \t3.42805\n",
            "88 \t276   \t47.344\t88 \t48 \t24 \t276   \t3.18271 \t24.828\t88 \t37 \t10 \t276   \t2.84858\n",
            "89 \t272   \t47.392\t89 \t48 \t32 \t272   \t3.05914 \t24.634\t89 \t31 \t1  \t272   \t3.32987\n",
            "90 \t286   \t47.152\t90 \t48 \t24 \t286   \t3.60235 \t24.536\t90 \t31 \t1  \t286   \t3.2773 \n",
            "91 \t275   \t46.928\t91 \t48 \t16 \t275   \t4.07956 \t24.528\t91 \t32 \t1  \t275   \t3.1536 \n",
            "92 \t282   \t47.056\t92 \t48 \t16 \t282   \t4.14208 \t24.5  \t92 \t31 \t2  \t282   \t3.18591\n",
            "93 \t270   \t47.42 \t93 \t48 \t32 \t270   \t2.86629 \t24.896\t93 \t34 \t3  \t270   \t2.59252\n",
            "94 \t284   \t47.376\t94 \t48 \t20 \t284   \t3.08717 \t25.016\t94 \t34 \t11 \t284   \t2.46328\n",
            "95 \t262   \t47.256\t95 \t48 \t16 \t262   \t3.59423 \t25.068\t95 \t34 \t1  \t262   \t2.87252\n",
            "96 \t272   \t47.432\t96 \t48 \t32 \t272   \t2.92256 \t25.182\t96 \t34 \t1  \t272   \t2.61091\n",
            "97 \t277   \t47.056\t97 \t48 \t32 \t277   \t3.71872 \t24.908\t97 \t31 \t1  \t277   \t3.54338\n",
            "98 \t275   \t47.504\t98 \t48 \t24 \t275   \t2.79607 \t25.378\t98 \t31 \t7  \t275   \t2.34331\n",
            "99 \t273   \t47.184\t99 \t48 \t16 \t273   \t3.74889 \t25.086\t99 \t33 \t1  \t273   \t3.42675\n"
          ]
        },
        {
          "name": "stdout",
          "output_type": "stream",
          "text": [
            "100\t274   \t47.552\t100\t48 \t32 \t274   \t2.59062 \t25.4  \t100\t33 \t6  \t274   \t2.43393\n",
            "101\t267   \t47.28 \t101\t48 \t16 \t267   \t3.59466 \t25.268\t101\t33 \t1  \t267   \t2.92783\n",
            "102\t251   \t47.584\t102\t48 \t32 \t251   \t2.40394 \t25.51 \t102\t31 \t1  \t251   \t2.11043\n",
            "103\t265   \t47.408\t103\t48 \t32 \t265   \t2.95593 \t25.434\t103\t31 \t1  \t265   \t3.38078\n",
            "104\t278   \t47.636\t104\t48 \t24 \t278   \t2.41402 \t25.8  \t104\t35 \t1  \t278   \t2.63363\n",
            "105\t277   \t47.492\t105\t48 \t24 \t277   \t2.85201 \t25.596\t105\t34 \t1  \t277   \t3.22688\n",
            "106\t260   \t47.456\t106\t48 \t32 \t260   \t2.85518 \t25.718\t106\t34 \t3  \t260   \t2.45489\n",
            "107\t250   \t47.544\t107\t48 \t32 \t250   \t2.59539 \t25.556\t107\t34 \t1  \t250   \t2.53355\n",
            "108\t287   \t47.656\t108\t48 \t32 \t287   \t2.24358 \t25.65 \t108\t34 \t12 \t287   \t2.21619\n",
            "109\t284   \t47.404\t109\t48 \t24 \t284   \t2.98342 \t25.596\t109\t34 \t1  \t284   \t2.40516\n",
            "110\t292   \t47.38 \t110\t48 \t32 \t292   \t2.98389 \t25.586\t110\t34 \t6  \t292   \t2.38717\n",
            "111\t266   \t47.512\t111\t48 \t16 \t266   \t2.91511 \t25.658\t111\t34 \t1  \t266   \t2.44807\n",
            "112\t253   \t47.552\t112\t48 \t16 \t253   \t3.00255 \t25.774\t112\t34 \t10 \t253   \t2.14171\n",
            "113\t300   \t47.32 \t113\t48 \t20 \t300   \t3.41549 \t25.662\t113\t34 \t3  \t300   \t2.55103\n",
            "114\t266   \t47.384\t114\t48 \t32 \t266   \t2.99942 \t25.704\t114\t33 \t2  \t266   \t2.69005\n",
            "115\t281   \t47.512\t115\t48 \t28 \t281   \t2.78026 \t25.678\t115\t33 \t3  \t281   \t2.87164\n",
            "116\t284   \t47.28 \t116\t48 \t16 \t284   \t3.37426 \t25.334\t116\t33 \t3  \t284   \t3.36369\n",
            "117\t307   \t47.176\t117\t48 \t16 \t307   \t3.64761 \t25.568\t117\t33 \t1  \t307   \t2.66859\n",
            "118\t277   \t47.408\t118\t48 \t16 \t277   \t3.28413 \t25.75 \t118\t33 \t3  \t277   \t2.43711\n",
            "119\t282   \t47.224\t119\t48 \t16 \t282   \t3.56957 \t25.658\t119\t35 \t1  \t282   \t3.06807\n",
            "120\t282   \t47.304\t120\t48 \t16 \t282   \t3.49565 \t25.952\t120\t31 \t3  \t282   \t2.5849 \n",
            "121\t279   \t47.256\t121\t48 \t16 \t279   \t3.48575 \t25.944\t121\t35 \t1  \t279   \t3.15355\n",
            "122\t266   \t47.552\t122\t48 \t24 \t266   \t2.68762 \t26.102\t122\t35 \t2  \t266   \t2.70548\n",
            "123\t284   \t47.544\t123\t48 \t24 \t284   \t2.59539 \t26.14 \t123\t35 \t3  \t284   \t3.02728\n",
            "124\t276   \t47.376\t124\t48 \t16 \t276   \t3.23892 \t26.33 \t124\t32 \t1  \t276   \t3.03597\n",
            "125\t279   \t47.36 \t125\t48 \t16 \t279   \t3.39976 \t26.254\t125\t32 \t6  \t279   \t2.95998\n",
            "126\t273   \t47.616\t126\t48 \t16 \t273   \t2.83629 \t26.068\t126\t32 \t1  \t273   \t3.19552\n",
            "127\t287   \t47.424\t127\t48 \t24 \t287   \t3.02328 \t26.024\t127\t34 \t2  \t287   \t3.1924 \n",
            "128\t271   \t47.392\t128\t48 \t32 \t271   \t3.01701 \t25.88 \t128\t32 \t3  \t271   \t3.45219\n",
            "129\t298   \t47.152\t129\t48 \t16 \t298   \t3.75884 \t26.092\t129\t33 \t4  \t298   \t2.67723\n",
            "130\t277   \t47.492\t130\t48 \t24 \t277   \t2.76079 \t26.144\t130\t34 \t7  \t277   \t2.94334\n",
            "131\t288   \t47.36 \t131\t48 \t32 \t288   \t3.09425 \t26.038\t131\t32 \t1  \t288   \t3.63876\n",
            "132\t269   \t47.328\t132\t48 \t16 \t269   \t3.58614 \t26.03 \t132\t33 \t1  \t269   \t3.26697\n",
            "133\t258   \t47.552\t133\t48 \t32 \t258   \t2.59062 \t25.926\t133\t34 \t2  \t258   \t3.22684\n",
            "134\t263   \t47.376\t134\t48 \t16 \t263   \t3.35539 \t25.914\t134\t35 \t1  \t263   \t3.34105\n",
            "135\t257   \t47.24 \t135\t48 \t24 \t257   \t3.50063 \t25.652\t135\t34 \t1  \t257   \t3.89396\n",
            "136\t255   \t47.488\t136\t48 \t32 \t255   \t2.72357 \t25.868\t136\t34 \t1  \t255   \t3.5291 \n",
            "137\t261   \t47.48 \t137\t48 \t24 \t261   \t2.88749 \t25.964\t137\t34 \t4  \t261   \t3.13029\n",
            "138\t258   \t47.2  \t138\t48 \t16 \t258   \t3.63098 \t25.99 \t138\t34 \t3  \t258   \t3.73924\n",
            "139\t268   \t47.424\t139\t48 \t28 \t268   \t2.94826 \t26.13 \t139\t37 \t11 \t268   \t3.0609 \n",
            "140\t290   \t47.272\t140\t48 \t16 \t290   \t3.43366 \t26.142\t140\t34 \t2  \t290   \t3.72637\n",
            "141\t267   \t47.532\t141\t48 \t16 \t267   \t2.80232 \t26.53 \t141\t39 \t1  \t267   \t3.66567\n",
            "142\t254   \t47.352\t142\t48 \t32 \t254   \t3.11835 \t26.406\t142\t39 \t1  \t254   \t3.72682\n",
            "143\t259   \t47.392\t143\t48 \t24 \t259   \t3.14171 \t26.446\t143\t39 \t10 \t259   \t3.49444\n",
            "144\t260   \t47.4  \t144\t48 \t16 \t260   \t3.22862 \t26.858\t144\t39 \t12 \t260   \t3.83899\n",
            "145\t290   \t47.304\t145\t48 \t16 \t290   \t3.34598 \t26.704\t145\t39 \t3  \t290   \t4.27836\n",
            "146\t274   \t47.216\t146\t48 \t20 \t274   \t3.64326 \t26.71 \t146\t39 \t3  \t274   \t4.57361\n",
            "147\t277   \t47.408\t147\t48 \t16 \t277   \t3.23505 \t26.956\t147\t39 \t7  \t277   \t4.06621\n",
            "148\t269   \t47.744\t148\t48 \t32 \t269   \t2.0076  \t27.436\t148\t39 \t17 \t269   \t3.79972\n",
            "149\t259   \t47.552\t149\t48 \t32 \t259   \t2.59062 \t27.538\t149\t39 \t7  \t259   \t4.07094\n",
            "150\t293   \t47.292\t150\t48 \t16 \t293   \t3.52175 \t27.386\t150\t39 \t2  \t293   \t4.37733\n"
          ]
        }
      ],
      "source": [
        "pop = toolbox.population(n=500)\n",
        "hof = tools.HallOfFame(1)\n",
        "\n",
        "pop, log = algorithms.eaSimple(pop, toolbox, cxpb=0.5, mutpb=0.1, ngen=150, stats=mstats,\n",
        "                                   halloffame=hof, verbose=True)"
      ]
    },
    {
      "cell_type": "markdown",
      "metadata": {
        "id": "6z2_NYCC32RB"
      },
      "source": [
        "## Basic plots"
      ]
    },
    {
      "cell_type": "code",
      "execution_count": null,
      "metadata": {
        "id": "xvAVUS4V32RB"
      },
      "outputs": [],
      "source": [
        "import matplotlib.pyplot as plt\n",
        "%matplotlib inline\n",
        "\n",
        "gen = log.chapters['fitness'].select(\"gen\")\n",
        "_min = log.chapters['fitness'].select(\"min\")\n",
        "_max = log.chapters['fitness'].select(\"max\")\n",
        "avgs = log.chapters['fitness'].select(\"avg\")\n",
        "stds = log.chapters['fitness'].select(\"std\")"
      ]
    },
    {
      "cell_type": "code",
      "execution_count": null,
      "metadata": {
        "id": "hxXbFveo32RB",
        "outputId": "e44ce8e2-7bcf-4809-aabf-212967a7e359"
      },
      "outputs": [
        {
          "data": {
            "image/png": "[encoded data removed]",
            "text/plain": [
              "<Figure size 432x288 with 1 Axes>"
            ]
          },
          "metadata": {
            "needs_background": "light"
          },
          "output_type": "display_data"
        }
      ],
      "source": [
        "plt.rc('axes', labelsize=14)\n",
        "plt.rc('xtick', labelsize=14)\n",
        "plt.rc('ytick', labelsize=14)\n",
        "plt.rc('legend', fontsize=14)\n",
        "\n",
        "fig, ax1 = plt.subplots()\n",
        "line1 = ax1.plot(gen, avgs)\n",
        "ax1.set_xlabel(\"Generation\")\n",
        "ax1.set_ylabel(\"Fitness\")\n",
        "\n",
        "line2 = ax1.plot(gen, _min)\n",
        "line3 = ax1.plot(gen, _max)"
      ]
    },
    {
      "cell_type": "markdown",
      "metadata": {
        "id": "KpcSHqXh32RC"
      },
      "source": [
        "Sometimes you might not be able to show the min and max on the same figure because of the scales."
      ]
    },
    {
      "cell_type": "markdown",
      "metadata": {
        "id": "4wAwGFks32RC"
      },
      "source": [
        "Question: Why do you think the minimum is always so low?"
      ]
    },
    {
      "cell_type": "markdown",
      "metadata": {
        "id": "AV-Tv1Up32RD"
      },
      "source": [
        "## Let's examine our best individual"
      ]
    },
    {
      "cell_type": "code",
      "execution_count": null,
      "metadata": {
        "id": "wgyrPcTC32RD",
        "outputId": "57edce1a-9674-4a38-94c8-355f2a7cd386"
      },
      "outputs": [
        {
          "name": "stdout",
          "output_type": "stream",
          "text": [
            "and_(not_(xor(xor(IN2, xor(IN1, 0)), IN4)), xor(not_(or_(IN5, or_(1, not_(or_(IN4, and_(or_(IN0, 0), or_(1, IN0))))))), xor(IN5, xor(IN0, not_(IN3)))))\n"
          ]
        }
      ],
      "source": [
        "indv = tools.selBest(pop, 1)[0]\n",
        "print(indv)"
      ]
    },
    {
      "cell_type": "code",
      "execution_count": null,
      "metadata": {
        "id": "7Kww3Xsm32RE"
      },
      "outputs": [],
      "source": [
        "nodes, edges, labels = gp.graph(indv)\n",
        "\n",
        "tree = pgv.AGraph()\n",
        "tree.add_nodes_from(nodes)\n",
        "tree.add_edges_from(edges)\n",
        "tree.layout(prog=\"dot\")\n",
        "\n",
        "for i in nodes:\n",
        "    n = tree.get_node(i)\n",
        "    n.attr[\"label\"] = labels[i]"
      ]
    },
    {
      "cell_type": "code",
      "execution_count": null,
      "metadata": {
        "id": "nAWYE7Yw32RE",
        "outputId": "4e842e81-05aa-470b-b7d6-1339202febc8"
      },
      "outputs": [
        {
          "data": {
            "image/png": "[encoded data removed]",
            "text/plain": [
              "<IPython.core.display.Image object>"
            ]
          },
          "execution_count": 50,
          "metadata": {},
          "output_type": "execute_result"
        }
      ],
      "source": [
        "from IPython.display import Image\n",
        "\n",
        "treePlot = tree.draw(format='png', prog='dot')\n",
        "Image(treePlot)"
      ]
    },
    {
      "cell_type": "code",
      "execution_count": null,
      "metadata": {
        "id": "rfzOg46v32RF",
        "outputId": "e2f2fed8-f7b8-4b38-f73c-3a57a6d631ef"
      },
      "outputs": [
        {
          "data": {
            "text/plain": [
              "(48,)"
            ]
          },
          "execution_count": 62,
          "metadata": {},
          "output_type": "execute_result"
        }
      ],
      "source": [
        "toolbox.evaluate(indv)"
      ]
    }
  ],
  "metadata": {
    "kernelspec": {
      "display_name": "ENVCOenv2020",
      "language": "python",
      "name": "envcoenv2020"
    },
    "language_info": {
      "codemirror_mode": {
        "name": "ipython",
        "version": 3
      },
      "file_extension": ".py",
      "mimetype": "text/x-python",
      "name": "python",
      "nbconvert_exporter": "python",
      "pygments_lexer": "ipython3",
      "version": "3.8.3"
    },
    "colab": {
      "provenance": []
    }
  },
  "nbformat": 4,
  "nbformat_minor": 0
}