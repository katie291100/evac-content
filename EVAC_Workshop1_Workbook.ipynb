{
 "cells": [
  {
   "cell_type": "markdown",
   "metadata": {
    "id": "EZfLs7Qk3ySB"
   },
   "source": [
    "# <span style=\"color:blue\">EVAC Workshop 1: Introduction to GAs in DEAP</span>"
   ]
  },
  {
   "cell_type": "markdown",
   "metadata": {
    "id": "vta6gn6h3ySD"
   },
   "source": [
    "**Module leader**\n",
    "\n",
    "Simon O'Keefe: simon.okeefe@york.ac.uk\n",
    "\n",
    "**Graduate Teaching Assistants**\n",
    "\n",
    "Danny Roberts: danny.roberts@york.ac.uk\n",
    "\n",
    "Tianda Sun: tianda.sun@york.ac.uk"
   ]
  },
  {
   "cell_type": "markdown",
   "metadata": {
    "id": "IDnTSTJI3ySE"
   },
   "source": [
    "## <span style=\"color:#0073e6\">Prerequisites</span>"
   ]
  },
  {
   "cell_type": "markdown",
   "metadata": {
    "id": "jqFYslkO3ySE"
   },
   "source": [
    "Before participating in this practical make sure that you have watched the pre-wrokshop materials:\n",
    "- Lectures 1, 2a and 2b\n",
    "- Code walkthroughs 1 and 2"
   ]
  },
  {
   "cell_type": "markdown",
   "source": [
    "# Colab Packages Install"
   ],
   "metadata": {
    "id": "KzgxUl8V4XG5"
   }
  },
  {
   "cell_type": "code",
   "source": [
    "!pip3 install deap\n",
    "!pip3 install matplotlib"
   ],
   "metadata": {
    "id": "pbJaHtpj4SQJ",
    "ExecuteTime": {
     "end_time": "2024-02-15T18:27:39.801507Z",
     "start_time": "2024-02-15T18:27:37.799666Z"
    }
   },
   "execution_count": 1,
   "outputs": [
    {
     "name": "stdout",
     "output_type": "stream",
     "text": [
      "Requirement already satisfied: deap in /Library/Frameworks/Python.framework/Versions/3.11/lib/python3.11/site-packages (1.4.1)\r\n",
      "Requirement already satisfied: numpy in /Library/Frameworks/Python.framework/Versions/3.11/lib/python3.11/site-packages (from deap) (1.26.0)\r\n",
      "\r\n",
      "\u001B[1m[\u001B[0m\u001B[34;49mnotice\u001B[0m\u001B[1;39;49m]\u001B[0m\u001B[39;49m A new release of pip available: \u001B[0m\u001B[31;49m22.3.1\u001B[0m\u001B[39;49m -> \u001B[0m\u001B[32;49m24.0\u001B[0m\r\n",
      "\u001B[1m[\u001B[0m\u001B[34;49mnotice\u001B[0m\u001B[1;39;49m]\u001B[0m\u001B[39;49m To update, run: \u001B[0m\u001B[32;49mpip3 install --upgrade pip\u001B[0m\r\n",
      "Requirement already satisfied: matplotlib in /Library/Frameworks/Python.framework/Versions/3.11/lib/python3.11/site-packages (3.8.2)\r\n",
      "Requirement already satisfied: contourpy>=1.0.1 in /Library/Frameworks/Python.framework/Versions/3.11/lib/python3.11/site-packages (from matplotlib) (1.2.0)\r\n",
      "Requirement already satisfied: cycler>=0.10 in /Library/Frameworks/Python.framework/Versions/3.11/lib/python3.11/site-packages (from matplotlib) (0.12.1)\r\n",
      "Requirement already satisfied: fonttools>=4.22.0 in /Library/Frameworks/Python.framework/Versions/3.11/lib/python3.11/site-packages (from matplotlib) (4.48.1)\r\n",
      "Requirement already satisfied: kiwisolver>=1.3.1 in /Library/Frameworks/Python.framework/Versions/3.11/lib/python3.11/site-packages (from matplotlib) (1.4.5)\r\n",
      "Requirement already satisfied: numpy<2,>=1.21 in /Library/Frameworks/Python.framework/Versions/3.11/lib/python3.11/site-packages (from matplotlib) (1.26.0)\r\n",
      "Requirement already satisfied: packaging>=20.0 in /Users/katiemaison/Library/Python/3.11/lib/python/site-packages (from matplotlib) (23.2)\r\n",
      "Requirement already satisfied: pillow>=8 in /Library/Frameworks/Python.framework/Versions/3.11/lib/python3.11/site-packages (from matplotlib) (10.0.1)\r\n",
      "Requirement already satisfied: pyparsing>=2.3.1 in /Library/Frameworks/Python.framework/Versions/3.11/lib/python3.11/site-packages (from matplotlib) (3.1.1)\r\n",
      "Requirement already satisfied: python-dateutil>=2.7 in /Users/katiemaison/Library/Python/3.11/lib/python/site-packages (from matplotlib) (2.8.2)\r\n",
      "Requirement already satisfied: six>=1.5 in /Library/Frameworks/Python.framework/Versions/3.11/lib/python3.11/site-packages (from python-dateutil>=2.7->matplotlib) (1.16.0)\r\n",
      "\r\n",
      "\u001B[1m[\u001B[0m\u001B[34;49mnotice\u001B[0m\u001B[1;39;49m]\u001B[0m\u001B[39;49m A new release of pip available: \u001B[0m\u001B[31;49m22.3.1\u001B[0m\u001B[39;49m -> \u001B[0m\u001B[32;49m24.0\u001B[0m\r\n",
      "\u001B[1m[\u001B[0m\u001B[34;49mnotice\u001B[0m\u001B[1;39;49m]\u001B[0m\u001B[39;49m To update, run: \u001B[0m\u001B[32;49mpip3 install --upgrade pip\u001B[0m\r\n"
     ]
    }
   ]
  },
  {
   "cell_type": "markdown",
   "metadata": {
    "id": "Ja9j1zmy3ySE"
   },
   "source": [
    "## <span style=\"color:#0073e6\">Learning objectives</span>"
   ]
  },
  {
   "cell_type": "markdown",
   "metadata": {
    "id": "ZZ8-J-Re3ySF"
   },
   "source": [
    "- To gain familiarity with the DEAP toolbox for Python\n",
    "- To understand how to code a simple GA\n",
    "- To understand crossover, selection, representation, and fitness functions\n",
    "- To appreciate how algorithm parameterization can affect performance"
   ]
  },
  {
   "cell_type": "markdown",
   "metadata": {
    "id": "-3adw1Yz3ySF"
   },
   "source": [
    "# <span style=\"color:blue\">Practical Instructions</span>"
   ]
  },
  {
   "cell_type": "markdown",
   "metadata": {
    "id": "n5cORryy3ySF"
   },
   "source": [
    "Below is a max-ones problem implementation (mentioned in the walkthrough) along with a simple GA solution in DEAP. Run the problem and examine the results. Then follow the exercises that follow the code."
   ]
  },
  {
   "cell_type": "markdown",
   "metadata": {
    "id": "sVvziZoE3ySG"
   },
   "source": [
    "# <span style=\"color:blue\">Max Ones implementation</span>"
   ]
  },
  {
   "cell_type": "code",
   "execution_count": 2,
   "metadata": {
    "id": "i67C4WuZ3ySG",
    "ExecuteTime": {
     "end_time": "2024-02-15T18:27:40.778373Z",
     "start_time": "2024-02-15T18:27:39.802913Z"
    }
   },
   "outputs": [],
   "source": [
    "import random\n",
    "import numpy\n",
    "import matplotlib.pyplot as plt\n",
    "from deap import algorithms, base, creator, tools"
   ]
  },
  {
   "cell_type": "code",
   "execution_count": 3,
   "metadata": {
    "id": "hmdToxD33ySH",
    "ExecuteTime": {
     "end_time": "2024-02-15T18:27:40.781379Z",
     "start_time": "2024-02-15T18:27:40.780013Z"
    }
   },
   "outputs": [],
   "source": [
    "\"\"\"This code sets up the basic framework for running a genetic algorithm to solve the OneMax problem, where the goal is to evolve a binary string (individual) with all 1s. \n",
    "The fitness of an individual is simply the count of 1s in the string. */\"\"\"\n",
    "\n",
    "\n",
    "# This line creates a new class named \"FitnessMax\" using the creator module. It inherits from base.Fitness class, and weights=(1.0,) indicates that this is a single-objective fitness class with a weight of 1.0.\n",
    "creator.create( \"FitnessMax\", base.Fitness, weights=(1.0,))\n",
    "\n",
    "\n",
    "#creator.create(\"Individual\", list, fitness=creator.FitnessMax): This line creates another class named \"Individual\", which is a Python list (array) with a fitness attribute of type \"FitnessMax\".\n",
    "creator.create(\"Individual\", list, fitness=creator.FitnessMax)\n",
    "\n",
    "# Creates a toolbox, which is essentially a container for registering functions used in the evolutionary algorithm.\n",
    "toolbox = base.Toolbox()\n",
    "\n",
    "# Registers a function named \"attr_bool\" that generates random integers (0 or 1). This function will be used to initialize genes in an individual.\n",
    "toolbox.register(\"attr_bool\", random.randint, 0, 1)\n",
    "\n",
    "# Registers a function to create an individual. It uses tools.initRepeat to initialize an individual with 100 genes, each generated by the \"attr_bool\" function.\n",
    "toolbox.register(\"individual\", tools.initRepeat, creator.Individual, toolbox.attr_bool, n=100)\n",
    "\n",
    "# Registers a function to create a population. It uses tools.initRepeat to initialize a population as a list of individuals, each generated by the \"individual\" function.\n",
    "toolbox.register(\"population\", tools.initRepeat, list, toolbox.individual)\n",
    "\n",
    "def evalOneMax(individual):\n",
    "    \"\"\"Takes an individual as input and returns a tuple containing the sum of all the genes in the individual.\"\"\"\n",
    "    return (sum(individual),)\n",
    "\n",
    "# Registers the evaluation function.\n",
    "toolbox.register(\"evaluate\", evalOneMax)\n",
    "\n",
    "# Registers a selection operator using tournament selection with a tournament size of 3.\n",
    "toolbox.register(\"select\", tools.selTournament, tournsize=3)\n",
    "\n",
    "# Registers a crossover operator using a two-point crossover.\n",
    "toolbox.register(\"mate\", tools.cxTwoPoint)\n",
    "\n",
    "# Registers a mutation operator using bit-flip mutation with a probability of 0.01.\n",
    "toolbox.register(\"mutate\", tools.mutFlipBit, indpb=0.01) #inpb Mutation Probability"
   ]
  },
  {
   "cell_type": "code",
   "execution_count": 4,
   "metadata": {
    "id": "6WImJJZy3ySI",
    "ExecuteTime": {
     "end_time": "2024-02-15T18:27:40.784433Z",
     "start_time": "2024-02-15T18:27:40.782402Z"
    }
   },
   "outputs": [],
   "source": [
    "\"\"\"These components are useful for tracking and analyzing the progress of the evolutionary algorithm. The logbook can be used to record various data throughout the evolutionary process, such as the generation number and the best individual found. The statistics object allows for the calculation and storage of statistical measures (e.g., mean, standard deviation, min, max) of the population's fitness values at each generation. This information can be used to analyze the performance and convergence of the algorithm.\"\"\"\n",
    "\n",
    "# Creates a logbook object, which is a data structure used to store and organize data, typically for logging the progress of an evolutionary algorithm.\n",
    "logbook = tools.Logbook()\n",
    "\n",
    "# Creates a statistics object to collect statistics on the population during the evolution process.\n",
    "stats = tools.Statistics(key=lambda ind: ind.fitness.values)\n",
    "\n",
    "# Registers the mean function from NumPy to calculate the average fitness of the population.\n",
    "stats.register(\"avg\", numpy.mean)\n",
    "\n",
    "# Registers the std function from NumPy to calculate the standard deviation of the fitness values in the population.\n",
    "stats.register(\"std\", numpy.std)\n",
    "\n",
    "# Registers the min function from NumPy to calculate the minimum fitness value in the population.\n",
    "stats.register(\"min\", numpy.min)\n",
    "\n",
    "# Registers the max function from NumPy to calculate the maximum fitness value in the population.\n",
    "stats.register(\"max\", numpy.max)"
   ]
  },
  {
   "cell_type": "code",
   "execution_count": 5,
   "metadata": {
    "id": "U7qshLVN3ySI",
    "ExecuteTime": {
     "end_time": "2024-02-15T18:27:40.790638Z",
     "start_time": "2024-02-15T18:27:40.788244Z"
    }
   },
   "outputs": [],
   "source": [
    "\"\"\"This block of code sets up the initial population for the evolutionary algorithm by creating a list of individuals and evaluating their fitness values based on the problem definition. Then, it assigns these fitness values to the individuals' fitness attributes for further processing during the evolutionary algorithm.\"\"\"\n",
    "\n",
    "# Creates a population of 100 individuals using the toolbox.population function that was previously registered. This function creates a list of individuals, where each individual is created using the toolbox.individual function.\n",
    "pop = toolbox.population(n=100)\n",
    "\n",
    "# Evaluates the fitness of each individual in the population using the toolbox.evaluate function that was registered earlier. This line uses the map function to apply the toolbox.evaluate function to each individual in the population pop, and then converts the result into a list.\n",
    "fitnesses = list(map(toolbox.evaluate, pop))\n",
    "\n",
    "# Iterates through each individual ind in the population pop and its corresponding fitness value fit.\n",
    "for ind, fit in zip(pop, fitnesses):\n",
    "    # Assigns the fitness value fit to the fitness.values attribute of the individual ind.\n",
    "    ind.fitness.values = fit"
   ]
  },
  {
   "cell_type": "code",
   "execution_count": 6,
   "metadata": {
    "scrolled": true,
    "id": "u0UiKoQG3ySJ",
    "ExecuteTime": {
     "end_time": "2024-02-15T18:27:41.046650Z",
     "start_time": "2024-02-15T18:27:40.790990Z"
    }
   },
   "outputs": [
    {
     "name": "stdout",
     "output_type": "stream",
     "text": [
      "-- Generation 0 --\n",
      "-- Generation 1 --\n",
      "-- Generation 2 --\n",
      "-- Generation 3 --\n",
      "-- Generation 4 --\n",
      "-- Generation 5 --\n",
      "-- Generation 6 --\n",
      "-- Generation 7 --\n",
      "-- Generation 8 --\n",
      "-- Generation 9 --\n",
      "-- Generation 10 --\n",
      "-- Generation 11 --\n",
      "-- Generation 12 --\n",
      "-- Generation 13 --\n",
      "-- Generation 14 --\n",
      "-- Generation 15 --\n",
      "-- Generation 16 --\n",
      "-- Generation 17 --\n",
      "-- Generation 18 --\n",
      "-- Generation 19 --\n",
      "-- Generation 20 --\n",
      "-- Generation 21 --\n",
      "-- Generation 22 --\n",
      "-- Generation 23 --\n",
      "-- Generation 24 --\n",
      "-- Generation 25 --\n",
      "-- Generation 26 --\n",
      "-- Generation 27 --\n",
      "-- Generation 28 --\n",
      "-- Generation 29 --\n",
      "-- Generation 30 --\n",
      "-- Generation 31 --\n",
      "-- Generation 32 --\n",
      "-- Generation 33 --\n",
      "-- Generation 34 --\n",
      "-- Generation 35 --\n",
      "-- Generation 36 --\n",
      "-- Generation 37 --\n",
      "-- Generation 38 --\n",
      "-- Generation 39 --\n",
      "-- Generation 40 --\n",
      "-- Generation 41 --\n",
      "-- Generation 42 --\n",
      "-- Generation 43 --\n",
      "-- Generation 44 --\n",
      "-- Generation 45 --\n",
      "-- Generation 46 --\n",
      "-- Generation 47 --\n",
      "-- Generation 48 --\n",
      "-- Generation 49 --\n",
      "-- Generation 50 --\n",
      "-- Generation 51 --\n",
      "-- Generation 52 --\n",
      "-- Generation 53 --\n",
      "-- Generation 54 --\n",
      "-- Generation 55 --\n",
      "-- Generation 56 --\n",
      "-- Generation 57 --\n",
      "-- Generation 58 --\n",
      "-- Generation 59 --\n",
      "-- Generation 60 --\n",
      "-- Generation 61 --\n",
      "-- Generation 62 --\n",
      "-- Generation 63 --\n",
      "-- Generation 64 --\n",
      "-- Generation 65 --\n",
      "-- Generation 66 --\n",
      "-- Generation 67 --\n",
      "-- Generation 68 --\n",
      "-- Generation 69 --\n",
      "-- Generation 70 --\n",
      "-- Generation 71 --\n",
      "-- Generation 72 --\n",
      "-- Generation 73 --\n",
      "-- Generation 74 --\n",
      "-- Generation 75 --\n",
      "-- Generation 76 --\n",
      "-- Generation 77 --\n",
      "-- Generation 78 --\n",
      "-- Generation 79 --\n",
      "-- Generation 80 --\n",
      "-- Generation 81 --\n",
      "-- Generation 82 --\n",
      "-- Generation 83 --\n",
      "-- Generation 84 --\n",
      "-- Generation 85 --\n",
      "-- Generation 86 --\n",
      "-- Generation 87 --\n",
      "-- Generation 88 --\n",
      "-- Generation 89 --\n",
      "-- Generation 90 --\n",
      "-- Generation 91 --\n",
      "-- Generation 92 --\n",
      "-- Generation 93 --\n",
      "-- Generation 94 --\n",
      "-- Generation 95 --\n",
      "-- Generation 96 --\n",
      "-- Generation 97 --\n",
      "-- Generation 98 --\n",
      "-- Generation 99 --\n"
     ]
    }
   ],
   "source": [
    "\"\"\"This loop represents the core of the evolutionary algorithm, where selection, crossover, mutation, evaluation, and population replacement are performed iteratively over multiple generations. The process continues until the specified number of generations (NGEN) is reached. Throughout the loop, statistics are recorded in the logbook to monitor the progress of the evolutionary algorithm.\"\"\"\n",
    "\n",
    "# Defines the total number of generations.\n",
    "NGEN = 100\n",
    "for g in range(NGEN):\n",
    "    print(\"-- Generation %i --\" % g)\n",
    "\n",
    "    # Selects individuals from the current population pop using the selection operator registered in the toolbox.\n",
    "    offspring = toolbox.select(pop, len(pop))\n",
    "    \n",
    "    # Clones the selected individuals to create offspring for the next generation.\n",
    "    offspring = list(map(toolbox.clone, offspring))\n",
    "\n",
    "    # Crossover and Mutation\n",
    "    # Iterates over pairs of offspring to perform crossover and mutation.\n",
    "    for child1, child2 in zip(offspring[::2], offspring[1::2]):\n",
    "        # Applies crossover (mating) to generate children from pairs of offspring.\n",
    "        toolbox.mate(child1, child2)\n",
    "        \n",
    "        # Deletes the fitness values of the children because they are no longer valid after crossover.\n",
    "        del child1.fitness.values\n",
    "        del child2.fitness.values\n",
    "    \n",
    "    # Mutation - iterates over each offspring to apply mutation.\n",
    "    for mutant in offspring:\n",
    "        # Applies mutation to each offspring.\n",
    "        toolbox.mutate(mutant)\n",
    "        # Deletes the fitness values of the mutant because they are no longer valid after mutation.\n",
    "        del mutant.fitness.values\n",
    "    \n",
    "    # Evaluation\n",
    "    # Identifies individuals in the offspring whose fitness values are not valid.\n",
    "    invalid_ind = [ind for ind in offspring if not ind.fitness.valid]\n",
    "    \n",
    "    # Evaluates the fitness of invalid individuals.\n",
    "    fitnesses = map(toolbox.evaluate, invalid_ind)\n",
    "    \n",
    "    # Assigns the fitness values to the evaluated individuals.\n",
    "    for ind, fit in zip(invalid_ind, fitnesses):\n",
    "        # Assigns the fitness value fit to the fitness.values attribute of the individual ind.\n",
    "         ind.fitness.values = fit\n",
    "\n",
    "    # Updating Population:\n",
    "    # Replaces the current population with the offspring generated in this generation.\n",
    "    pop[:] = offspring\n",
    "    \n",
    "    # Recording Statistics\n",
    "    \n",
    "    # Computes statistics for the current population.\n",
    "    record = stats.compile(pop)\n",
    "    \n",
    "    # Records the statistics for the current generation g in the logbook. The **record syntax unpacks the dictionary record and passes its contents as keyword arguments to the logbook.record function.\n",
    "    logbook.record(gen=g, **record)"
   ]
  },
  {
   "cell_type": "code",
   "execution_count": 7,
   "metadata": {
    "id": "SdZ37e253ySJ",
    "ExecuteTime": {
     "end_time": "2024-02-15T18:27:41.046952Z",
     "start_time": "2024-02-15T18:27:41.045929Z"
    }
   },
   "outputs": [],
   "source": [
    "\"\"\"Used for plotting or further analysis. For example, gen will contain the generation numbers, avgs will contain the corresponding average fitness values, and stds will contain the corresponding standard deviations of fitness values. These data can be plotted to visualize the evolution of the population's fitness over generations.\"\"\"\n",
    "\n",
    "# Sets the header of the logbook to indicate the columns. The columns are \"gen\" for generation number, \"avg\" for average fitness, \"std\" for standard deviation of fitness, \"min\" for minimum fitness, and \"max\" for maximum fitness.\n",
    "logbook.header = \"gen\", \"avg\", \"std\", \"min\", \"max\"\n",
    "\n",
    "# Selects the data from the logbook for the \"gen\" column (generation number).\n",
    "gen = logbook.select(\"gen\")\n",
    "\n",
    "# Selects the data from the logbook for the \"avg\" column (average fitness).\n",
    "avgs = logbook.select(\"avg\")\n",
    "\n",
    "# Selects the data from the logbook for the \"std\" column (standard deviation of fitness).\n",
    "stds = logbook.select(\"std\")"
   ]
  },
  {
   "cell_type": "code",
   "execution_count": 8,
   "metadata": {
    "id": "RbKgifGe3ySK",
    "ExecuteTime": {
     "end_time": "2024-02-15T18:27:41.146900Z",
     "start_time": "2024-02-15T18:27:41.048303Z"
    }
   },
   "outputs": [
    {
     "data": {
      "text/plain": "Text(0, 0.5, 'Mean Fitness')"
     },
     "execution_count": 8,
     "metadata": {},
     "output_type": "execute_result"
    },
    {
     "data": {
      "text/plain": "<Figure size 640x480 with 1 Axes>",
      "image/png": "[encoded data removed]"
     },
     "metadata": {},
     "output_type": "display_data"
    }
   ],
   "source": [
    "\"\"\"This code segment sets up the plot to visualize how the mean fitness of the population evolves across generations, with error bars indicating the variability in fitness values.\"\"\"\n",
    "\n",
    "# These lines set the default font sizes for various elements of the plot, such as axes labels, tick labels, and legend font size.\n",
    "plt.rc('axes', labelsize=14)\n",
    "plt.rc('xtick', labelsize=14)\n",
    "plt.rc('ytick', labelsize=14)\n",
    "plt.rc('legend', fontsize=14)\n",
    "\n",
    "# Creates a figure and a set of subplots (in this case, only one subplot). ax1 is the Axes object used for plotting.\n",
    "fig, ax1 = plt.subplots()\n",
    "#line1 = ax1.plot(gen, avgs)\n",
    "\n",
    "# Plots the mean fitness values (avgs) across generations (gen). Error bars are added to show the standard deviation (stds) of fitness values. The errorevery=2 parameter indicates that error bars will be plotted for every 2nd data point, for better visibility.\n",
    "line1 = ax1.errorbar(gen, avgs, yerr=stds, errorevery=2)\n",
    "\n",
    "# Sets the label for the x-axis to \"Generation\".\n",
    "ax1.set_xlabel(\"Generation\")\n",
    "\n",
    "# Sets the label for the y-axis to \"Mean Fitness\".\n",
    "ax1.set_ylabel(\"Mean Fitness\")"
   ]
  },
  {
   "cell_type": "code",
   "execution_count": 9,
   "metadata": {
    "scrolled": true,
    "id": "kwJwDT6F3ySK",
    "ExecuteTime": {
     "end_time": "2024-02-15T18:27:41.147796Z",
     "start_time": "2024-02-15T18:27:41.146652Z"
    }
   },
   "outputs": [
    {
     "name": "stdout",
     "output_type": "stream",
     "text": [
      "gen\tavg  \tstd     \tmin\tmax\n",
      "0  \t54.03\t4.29291 \t42 \t65 \n",
      "1  \t57.58\t3.96782 \t47 \t65 \n",
      "2  \t60.74\t3.07122 \t53 \t69 \n",
      "3  \t63.41\t2.92265 \t53 \t72 \n",
      "4  \t65.69\t3.17394 \t58 \t73 \n",
      "5  \t67.97\t2.75846 \t58 \t74 \n",
      "6  \t70.28\t2.79313 \t64 \t77 \n",
      "7  \t72.24\t2.7897  \t66 \t80 \n",
      "8  \t73.99\t2.76585 \t68 \t82 \n",
      "9  \t75.68\t3.07857 \t68 \t84 \n",
      "10 \t77.65\t2.95762 \t70 \t84 \n",
      "11 \t79.47\t2.74756 \t71 \t86 \n",
      "12 \t81.31\t2.47667 \t75 \t91 \n",
      "13 \t82.6 \t2.30217 \t78 \t88 \n",
      "14 \t83.89\t2.15822 \t79 \t89 \n",
      "15 \t85.24\t2.4336  \t79 \t91 \n",
      "16 \t86.76\t2.03037 \t81 \t91 \n",
      "17 \t87.86\t2.02    \t83 \t92 \n",
      "18 \t88.68\t2.1949  \t81 \t94 \n",
      "19 \t89.46\t1.79677 \t84 \t93 \n",
      "20 \t90.1 \t2.08567 \t85 \t95 \n",
      "21 \t90.91\t2.01045 \t84 \t96 \n",
      "22 \t91.66\t1.95049 \t87 \t97 \n",
      "23 \t92.4 \t1.84932 \t89 \t97 \n",
      "24 \t93.32\t1.81041 \t89 \t98 \n",
      "25 \t94.13\t1.87433 \t90 \t98 \n",
      "26 \t94.4 \t1.83848 \t89 \t99 \n",
      "27 \t95.18\t1.61481 \t91 \t99 \n",
      "28 \t95.6 \t1.77764 \t90 \t99 \n",
      "29 \t96.14\t1.7494  \t92 \t100\n",
      "30 \t96.89\t1.41347 \t92 \t100\n",
      "31 \t97.03\t1.29965 \t94 \t99 \n",
      "32 \t97.26\t1.22164 \t93 \t100\n",
      "33 \t97.16\t1.12889 \t95 \t100\n",
      "34 \t97.11\t1.55496 \t92 \t100\n",
      "35 \t97.59\t1.4906  \t93 \t100\n",
      "36 \t97.77\t1.5547  \t93 \t100\n",
      "37 \t98.17\t1.20876 \t94 \t100\n",
      "38 \t98.1 \t1.18743 \t94 \t100\n",
      "39 \t97.98\t1.34893 \t95 \t100\n",
      "40 \t98.14\t1.34922 \t94 \t100\n",
      "41 \t98.12\t1.22703 \t94 \t100\n",
      "42 \t98.17\t1.15806 \t95 \t100\n",
      "43 \t98.16\t1.18929 \t95 \t100\n",
      "44 \t98.02\t1.22458 \t94 \t100\n",
      "45 \t98.18\t1.23596 \t95 \t100\n",
      "46 \t98.04\t1.49613 \t93 \t100\n",
      "47 \t98.36\t1.24515 \t95 \t100\n",
      "48 \t98.12\t1.24322 \t95 \t100\n",
      "49 \t98.05\t1.27574 \t94 \t100\n",
      "50 \t98   \t1.19164 \t95 \t100\n",
      "51 \t98.15\t1.2278  \t95 \t100\n",
      "52 \t98.38\t1.00777 \t96 \t100\n",
      "53 \t98.15\t1.19478 \t95 \t100\n",
      "54 \t98.04\t1.31088 \t94 \t100\n",
      "55 \t98.17\t1.33458 \t95 \t100\n",
      "56 \t98.19\t1.3015  \t93 \t100\n",
      "57 \t98.34\t1.25076 \t95 \t100\n",
      "58 \t98.32\t1.25603 \t95 \t100\n",
      "59 \t98.42\t1.26633 \t94 \t100\n",
      "60 \t98.47\t1.07196 \t96 \t100\n",
      "61 \t98.66\t0.961457\t97 \t100\n",
      "62 \t98.57\t1.10684 \t96 \t100\n",
      "63 \t98.71\t1.12512 \t94 \t100\n",
      "64 \t98.51\t1.16185 \t95 \t100\n",
      "65 \t98.31\t1.38344 \t94 \t100\n",
      "66 \t98.21\t1.08899 \t95 \t100\n",
      "67 \t98.07\t1.18537 \t94 \t100\n",
      "68 \t97.79\t1.16013 \t94 \t100\n",
      "69 \t97.69\t1.16357 \t95 \t100\n",
      "70 \t97.88\t1.29058 \t92 \t100\n",
      "71 \t97.92\t1.32424 \t94 \t100\n",
      "72 \t98.18\t1.10797 \t96 \t100\n",
      "73 \t98.1 \t1.19583 \t95 \t100\n",
      "74 \t98.25\t1.11692 \t94 \t100\n",
      "75 \t98.23\t1.15633 \t95 \t100\n",
      "76 \t98.12\t1.21885 \t93 \t100\n",
      "77 \t98.23\t1.1212  \t94 \t100\n",
      "78 \t98.26\t1.1543  \t95 \t100\n",
      "79 \t98.34\t1.06038 \t96 \t100\n",
      "80 \t98.26\t1.16293 \t93 \t100\n",
      "81 \t98.15\t1.2114  \t95 \t100\n",
      "82 \t98.18\t1.18642 \t95 \t100\n",
      "83 \t98.27\t1.24784 \t94 \t100\n",
      "84 \t98.32\t1.20731 \t95 \t100\n",
      "85 \t98.11\t1.24816 \t95 \t100\n",
      "86 \t98.02\t1.25682 \t95 \t100\n",
      "87 \t97.97\t1.32254 \t95 \t100\n",
      "88 \t98.04\t1.37782 \t92 \t100\n",
      "89 \t98.23\t1.26376 \t95 \t100\n",
      "90 \t98.25\t1.25996 \t94 \t100\n",
      "91 \t98.28\t1.18389 \t95 \t100\n",
      "92 \t98.08\t1.44    \t94 \t100\n",
      "93 \t98.19\t1.41912 \t94 \t100\n",
      "94 \t98.23\t1.37735 \t94 \t100\n",
      "95 \t98.41\t1.0686  \t95 \t100\n",
      "96 \t98.35\t0.963068\t96 \t100\n",
      "97 \t98.17\t1.26535 \t94 \t100\n",
      "98 \t97.91\t1.33488 \t94 \t100\n",
      "99 \t98.01\t1.11799 \t94 \t100\n"
     ]
    }
   ],
   "source": [
    "print(logbook)"
   ]
  },
  {
   "cell_type": "markdown",
   "metadata": {
    "id": "SBVvl3eR3ySK"
   },
   "source": [
    "# <span style=\"color:blue\">Exercise 1: Getting to know the GA</span>"
   ]
  },
  {
   "cell_type": "markdown",
   "metadata": {
    "id": "Qy-O8Ntc3ySL"
   },
   "source": [
    "- Try playing with the crossover and mutation probabilities. Can you tweak these parameters to improve performance? Why does the performance improve / not improve / get worse?"
   ]
  },
  {
   "cell_type": "markdown",
   "metadata": {
    "id": "O94t7bc03ySL"
   },
   "source": [
    "- Change the line that creates the fitness class, change weights=(1.0,) to weights=(-1.0,)). This changes the problem from a maximization problem to a minimization problem. What effect does this have?"
   ]
  },
  {
   "cell_type": "markdown",
   "metadata": {
    "id": "suAmla9d3ySL"
   },
   "source": [
    "- This code currently using two-point crossover to combine the genomes of selected parents to produce offspring. This produces offspring by selecting two random positions on the genome, and swapping values between these two positions. Uniform crossover randomly swaps values at each location in the genome with a given probability. Let’s begin customizing our algorithm using uniform crossover instead. Find the definition of the crossover operator, which has been registered in the toolbox as the function ‘mate’. Now change the operator (you can use the Library Reference to find the built-in command for this). Run the program.\n",
    "\n",
    "You might see the following error:  \n",
    "\n",
    "``TypeError: cxUniform() takes exactly 3 arguments (2 given)``  \n",
    "\n",
    "A quick look at the documentation for the cxUniform function will show you that this is because the new crossover function takes an extra argument: the probability of a swap at each position (locus) in the genome. Find the part of the code where mating occurs and pass the toolbox.mate command the extra parameter value (say 0.1). Alternatively, you can define the comment when you register cxUnifrom as “mate”. Now your code will run.\n"
   ]
  },
  {
   "cell_type": "markdown",
   "metadata": {
    "id": "4fGbJXqM3ySL"
   },
   "source": [
    "# <span style=\"color:blue\">Exercise 2: Implement a Real Valued Version</span>"
   ]
  },
  {
   "cell_type": "markdown",
   "metadata": {
    "id": "SdDtWt1W3ySM"
   },
   "source": [
    "Modify the code so that instead of counting binary 1s, the problem is to maximize the total value of genes whose values are real numbers between 0 and 1, inclusive. For example [0.5, 0.2, 0.1, 0.3] would give a fitness value of 1.1."
   ]
  },
  {
   "cell_type": "markdown",
   "metadata": {
    "id": "ZmeIAIan3ySM"
   },
   "source": [
    "# <span style=\"color:blue\">Exercise 3: Write your own operator</span>"
   ]
  },
  {
   "cell_type": "markdown",
   "metadata": {
    "id": "RQbLlRIr3ySM"
   },
   "source": [
    "Let’s write our own mutation operator and register it in the toolbox.  Implement a uniform operator for the real valued version that replaces each value in the genome with a random uniform number between 0 and 1 using a fixed mutation probability per gene, or that adds a float number to the gene.\n",
    "To do this, you need to write your own Python function that takes in an individual, and anything else you need (e.g. probability of mutation per gene) and modifies the individual. The function should return a tuple, with the individual as the first element  e.g. return individual,"
   ]
  },
  {
   "cell_type": "markdown",
   "metadata": {
    "id": "qM66WkP23ySM"
   },
   "source": [
    "# <span style=\"color:blue\">Exercise 4: Change the problem to a ‘deceptive’ problem</span>"
   ]
  },
  {
   "cell_type": "markdown",
   "metadata": {
    "id": "1NMnNt4v3ySM"
   },
   "source": [
    "This exercise will test your understanding of the principles in this practical and teach you about the impact of choices of representation.\n",
    "\n",
    "First, revert back to the original Max Ones code. Now modify the Max Ones problem to implement the following ‘deceptive’ problem. A deceptive problem is just a problem that has local optima in which the algorithm can become trapped. Note that the standard Max Ones problem only has a global optimum.\n",
    "\n",
    "In this problem, the bit string should be split into six blocks of three bits, where each block is assigned a partial fitness based on the number of ones in that block. Here is an example individual:"
   ]
  },
  {
   "cell_type": "markdown",
   "metadata": {
    "id": "XqRM8IsH3ySN"
   },
   "source": [
    "![maxOnes.png](data:image/png;base64,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)"
   ]
  },
  {
   "cell_type": "markdown",
   "metadata": {
    "id": "XFglrgIW3ySN"
   },
   "source": [
    "The fitness for each block of three is given as follows:\n",
    "- 0 ones: partial fitness 0.9\n",
    "- 1 ones: partial fitness 0.8\n",
    "- 2 ones: partial fitness 0.0\n",
    "- 3 ones: partial fitness 1.0"
   ]
  },
  {
   "cell_type": "markdown",
   "metadata": {
    "id": "jyRXfyST3ySN"
   },
   "source": [
    "The fitness of the entire string is then determined by calculating the summed value over all blocks. For example, the individual above has a fitness of:  \n",
    "``(0.8 + 0.0 + 1.0 + 0.8 + 1.0 + 0.9) = 4.5``"
   ]
  },
  {
   "cell_type": "markdown",
   "metadata": {
    "id": "AwnDNtbN3ySO"
   },
   "source": [
    "**Your task: Set the length of the individuals to 18 and implement this problem.**"
   ]
  },
  {
   "cell_type": "markdown",
   "metadata": {
    "id": "ow4abDQk3ySO"
   },
   "source": [
    "<span style=\"color:green\">Questions to think about:  </span>\n",
    "- <span style=\"color:green\">What is it about this fitness landscape that makes it (for some algorithms) difficult to traverse?  </span>\n",
    "- <span style=\"color:green\">What is the global optimum for this problem? What do you think the fitness landscape looks like?  </span>\n",
    "- <span style=\"color:green\">Run the algorithm multiple times. Do you get the same result each time?  </span>\n",
    "- <span style=\"color:green\">Does your algorithm find the global optimum? Why?  </span>\n",
    "- <span style=\"color:green\">Can you improve the result by changing parameters or operators?</span>"
   ]
  },
  {
   "cell_type": "markdown",
   "metadata": {
    "id": "poG-ZBYw3ySO"
   },
   "source": [
    "# <span style=\"color:blue\">Exercise 5: Multiple runs</span>"
   ]
  },
  {
   "cell_type": "markdown",
   "metadata": {
    "id": "icimxB563ySP"
   },
   "source": [
    "Genetic algorithms are stochastic. As such, you might get a different result every time you run it; sometimes, for example, getting stuck on local optima and sometimes now. Try to modify the algorithm to run 50 times. Then record and plot a distribution of the final mean fitness scores. The matplotlib code for a density plot is:  \n",
    "\n",
    "```plt.hist(avgRuns, density=True, bins=10)```  \n",
    "(You might need to change the number of bins)."
   ]
  },
  {
   "cell_type": "markdown",
   "metadata": {
    "id": "xXFMd0qX3ySQ"
   },
   "source": [
    "You should see that, for this problem, there's no a lot of variation. But this is unusual with harder problems."
   ]
  }
 ],
 "metadata": {
  "kernelspec": {
   "display_name": "Python 3",
   "language": "python",
   "name": "python3"
  },
  "language_info": {
   "codemirror_mode": {
    "name": "ipython",
    "version": 3
   },
   "file_extension": ".py",
   "mimetype": "text/x-python",
   "name": "python",
   "nbconvert_exporter": "python",
   "pygments_lexer": "ipython3",
   "version": "3.8.3"
  },
  "colab": {
   "provenance": []
  }
 },
 "nbformat": 4,
 "nbformat_minor": 0
}
